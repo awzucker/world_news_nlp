{
 "cells": [
  {
   "cell_type": "markdown",
   "metadata": {},
   "source": [
    "# World News NLP Project\n",
    "## Scratchpad\n",
    "#### Adam Zucker\n",
    "\n",
    "---"
   ]
  },
  {
   "cell_type": "markdown",
   "metadata": {},
   "source": [
    "## Data\n",
    "\n",
    "- __*world_news_posts.csv*:__ Supplied dataframe with roughly 500,000 titles of posts on a \"world news\" message board, including data for the date, time, and author of the post, along with user interaction.\n",
    "\n",
    "---"
   ]
  },
  {
   "cell_type": "markdown",
   "metadata": {},
   "source": [
    "## Imports"
   ]
  },
  {
   "cell_type": "code",
   "execution_count": 1,
   "metadata": {},
   "outputs": [],
   "source": [
    "import pandas as pd\n",
    "import numpy as np\n",
    "import matplotlib.pyplot as plt\n",
    "import seaborn as sns\n",
    "\n",
    "import spacy\n",
    "from spacy import displacy\n",
    "\n",
    "from sklearn.feature_extraction.text import CountVectorizer, TfidfVectorizer\n",
    "from nltk.tokenize import RegexpTokenizer\n",
    "from nltk.sentiment.vader import SentimentIntensityAnalyzer\n",
    "\n",
    "import time\n",
    "from datetime import datetime"
   ]
  },
  {
   "cell_type": "code",
   "execution_count": 54,
   "metadata": {},
   "outputs": [],
   "source": [
    "# Reading in data\n",
    "df = pd.read_csv('../data/world_news_posts.csv')"
   ]
  },
  {
   "cell_type": "code",
   "execution_count": 55,
   "metadata": {},
   "outputs": [
    {
     "data": {
      "text/html": [
       "<div>\n",
       "<style scoped>\n",
       "    .dataframe tbody tr th:only-of-type {\n",
       "        vertical-align: middle;\n",
       "    }\n",
       "\n",
       "    .dataframe tbody tr th {\n",
       "        vertical-align: top;\n",
       "    }\n",
       "\n",
       "    .dataframe thead th {\n",
       "        text-align: right;\n",
       "    }\n",
       "</style>\n",
       "<table border=\"1\" class=\"dataframe\">\n",
       "  <thead>\n",
       "    <tr style=\"text-align: right;\">\n",
       "      <th></th>\n",
       "      <th>time_created</th>\n",
       "      <th>date_created</th>\n",
       "      <th>up_votes</th>\n",
       "      <th>down_votes</th>\n",
       "      <th>title</th>\n",
       "      <th>over_18</th>\n",
       "      <th>author</th>\n",
       "      <th>category</th>\n",
       "    </tr>\n",
       "  </thead>\n",
       "  <tbody>\n",
       "    <tr>\n",
       "      <th>0</th>\n",
       "      <td>1201232046</td>\n",
       "      <td>2008-01-25</td>\n",
       "      <td>3</td>\n",
       "      <td>0</td>\n",
       "      <td>Scores killed in Pakistan clashes</td>\n",
       "      <td>False</td>\n",
       "      <td>polar</td>\n",
       "      <td>worldnews</td>\n",
       "    </tr>\n",
       "    <tr>\n",
       "      <th>1</th>\n",
       "      <td>1201232075</td>\n",
       "      <td>2008-01-25</td>\n",
       "      <td>2</td>\n",
       "      <td>0</td>\n",
       "      <td>Japan resumes refuelling mission</td>\n",
       "      <td>False</td>\n",
       "      <td>polar</td>\n",
       "      <td>worldnews</td>\n",
       "    </tr>\n",
       "    <tr>\n",
       "      <th>2</th>\n",
       "      <td>1201232523</td>\n",
       "      <td>2008-01-25</td>\n",
       "      <td>3</td>\n",
       "      <td>0</td>\n",
       "      <td>US presses Egypt on Gaza border</td>\n",
       "      <td>False</td>\n",
       "      <td>polar</td>\n",
       "      <td>worldnews</td>\n",
       "    </tr>\n",
       "    <tr>\n",
       "      <th>3</th>\n",
       "      <td>1201233290</td>\n",
       "      <td>2008-01-25</td>\n",
       "      <td>1</td>\n",
       "      <td>0</td>\n",
       "      <td>Jump-start economy: Give health care to all</td>\n",
       "      <td>False</td>\n",
       "      <td>fadi420</td>\n",
       "      <td>worldnews</td>\n",
       "    </tr>\n",
       "    <tr>\n",
       "      <th>4</th>\n",
       "      <td>1201274720</td>\n",
       "      <td>2008-01-25</td>\n",
       "      <td>4</td>\n",
       "      <td>0</td>\n",
       "      <td>Council of Europe bashes EU&amp;UN terror blacklist</td>\n",
       "      <td>False</td>\n",
       "      <td>mhermans</td>\n",
       "      <td>worldnews</td>\n",
       "    </tr>\n",
       "  </tbody>\n",
       "</table>\n",
       "</div>"
      ],
      "text/plain": [
       "   time_created date_created  up_votes  down_votes  \\\n",
       "0    1201232046   2008-01-25         3           0   \n",
       "1    1201232075   2008-01-25         2           0   \n",
       "2    1201232523   2008-01-25         3           0   \n",
       "3    1201233290   2008-01-25         1           0   \n",
       "4    1201274720   2008-01-25         4           0   \n",
       "\n",
       "                                             title  over_18    author  \\\n",
       "0                Scores killed in Pakistan clashes    False     polar   \n",
       "1                 Japan resumes refuelling mission    False     polar   \n",
       "2                  US presses Egypt on Gaza border    False     polar   \n",
       "3     Jump-start economy: Give health care to all     False   fadi420   \n",
       "4  Council of Europe bashes EU&UN terror blacklist    False  mhermans   \n",
       "\n",
       "    category  \n",
       "0  worldnews  \n",
       "1  worldnews  \n",
       "2  worldnews  \n",
       "3  worldnews  \n",
       "4  worldnews  "
      ]
     },
     "execution_count": 55,
     "metadata": {},
     "output_type": "execute_result"
    }
   ],
   "source": [
    "df.head()"
   ]
  },
  {
   "cell_type": "markdown",
   "metadata": {},
   "source": [
    "---"
   ]
  },
  {
   "cell_type": "markdown",
   "metadata": {},
   "source": [
    "## EDA"
   ]
  },
  {
   "cell_type": "code",
   "execution_count": 4,
   "metadata": {},
   "outputs": [
    {
     "name": "stdout",
     "output_type": "stream",
     "text": [
      "<class 'pandas.core.frame.DataFrame'>\n",
      "RangeIndex: 509236 entries, 0 to 509235\n",
      "Data columns (total 8 columns):\n",
      " #   Column        Non-Null Count   Dtype \n",
      "---  ------        --------------   ----- \n",
      " 0   time_created  509236 non-null  int64 \n",
      " 1   date_created  509236 non-null  object\n",
      " 2   up_votes      509236 non-null  int64 \n",
      " 3   down_votes    509236 non-null  int64 \n",
      " 4   title         509236 non-null  object\n",
      " 5   over_18       509236 non-null  bool  \n",
      " 6   author        509236 non-null  object\n",
      " 7   category      509236 non-null  object\n",
      "dtypes: bool(1), int64(3), object(4)\n",
      "memory usage: 27.7+ MB\n"
     ]
    }
   ],
   "source": [
    "df.info()"
   ]
  },
  {
   "cell_type": "code",
   "execution_count": 5,
   "metadata": {},
   "outputs": [
    {
     "data": {
      "text/plain": [
       "time_created    0\n",
       "date_created    0\n",
       "up_votes        0\n",
       "down_votes      0\n",
       "title           0\n",
       "over_18         0\n",
       "author          0\n",
       "category        0\n",
       "dtype: int64"
      ]
     },
     "execution_count": 5,
     "metadata": {},
     "output_type": "execute_result"
    }
   ],
   "source": [
    "# Checking for nulls in the dataframe - none detected\n",
    "df.isnull().sum()"
   ]
  },
  {
   "cell_type": "code",
   "execution_count": 6,
   "metadata": {},
   "outputs": [
    {
     "name": "stdout",
     "output_type": "stream",
     "text": [
      "Number of days represented in dataframe: 3223\n",
      "Data date range is from 2008-01-25 to 2016-11-22\n"
     ]
    }
   ],
   "source": [
    "# The data spans 3223 days, from 1/25/08 to 11/22/16\n",
    "print(f\"Number of days represented in dataframe: {len(df['date_created'].unique())}\")\n",
    "print(f\"Data date range is from {min(df['date_created'])} to {max(df['date_created'])}\")"
   ]
  },
  {
   "cell_type": "code",
   "execution_count": 7,
   "metadata": {},
   "outputs": [],
   "source": [
    "# df['up_votes'].groupby(df['author']).sum()"
   ]
  },
  {
   "cell_type": "code",
   "execution_count": 8,
   "metadata": {},
   "outputs": [],
   "source": [
    "# Converting 'date_created' to datetime\n",
    "df['date_created'] = pd.to_datetime(df['date_created'])"
   ]
  },
  {
   "cell_type": "code",
   "execution_count": 9,
   "metadata": {},
   "outputs": [
    {
     "data": {
      "text/plain": [
       "time_created             int64\n",
       "date_created    datetime64[ns]\n",
       "up_votes                 int64\n",
       "down_votes               int64\n",
       "title                   object\n",
       "over_18                   bool\n",
       "author                  object\n",
       "category                object\n",
       "dtype: object"
      ]
     },
     "execution_count": 9,
     "metadata": {},
     "output_type": "execute_result"
    }
   ],
   "source": [
    "df.dtypes"
   ]
  },
  {
   "cell_type": "code",
   "execution_count": 10,
   "metadata": {},
   "outputs": [
    {
     "data": {
      "text/plain": [
       "worldnews    509236\n",
       "Name: category, dtype: int64"
      ]
     },
     "execution_count": 10,
     "metadata": {},
     "output_type": "execute_result"
    }
   ],
   "source": [
    "# All posts are classified as 'worldnews' - with just a single class represented, this feature becomes unnecessary\n",
    "df['category'].value_counts()"
   ]
  },
  {
   "cell_type": "code",
   "execution_count": 11,
   "metadata": {},
   "outputs": [],
   "source": [
    "# Dropping 'category' feature\n",
    "df.drop(columns='category', inplace=True)"
   ]
  },
  {
   "cell_type": "markdown",
   "metadata": {},
   "source": [
    "---"
   ]
  },
  {
   "cell_type": "code",
   "execution_count": 12,
   "metadata": {},
   "outputs": [
    {
     "data": {
      "text/plain": [
       "count    509236.000000\n",
       "mean        112.236283\n",
       "std         541.694675\n",
       "min           0.000000\n",
       "25%           1.000000\n",
       "50%           5.000000\n",
       "75%          16.000000\n",
       "max       21253.000000\n",
       "Name: up_votes, dtype: float64"
      ]
     },
     "execution_count": 12,
     "metadata": {},
     "output_type": "execute_result"
    }
   ],
   "source": [
    "# Summary stats for upvotes\n",
    "df['up_votes'].describe()"
   ]
  },
  {
   "cell_type": "code",
   "execution_count": 13,
   "metadata": {},
   "outputs": [
    {
     "data": {
      "text/html": [
       "<div>\n",
       "<style scoped>\n",
       "    .dataframe tbody tr th:only-of-type {\n",
       "        vertical-align: middle;\n",
       "    }\n",
       "\n",
       "    .dataframe tbody tr th {\n",
       "        vertical-align: top;\n",
       "    }\n",
       "\n",
       "    .dataframe thead th {\n",
       "        text-align: right;\n",
       "    }\n",
       "</style>\n",
       "<table border=\"1\" class=\"dataframe\">\n",
       "  <thead>\n",
       "    <tr style=\"text-align: right;\">\n",
       "      <th></th>\n",
       "      <th>up_votes</th>\n",
       "    </tr>\n",
       "    <tr>\n",
       "      <th>title</th>\n",
       "      <th></th>\n",
       "    </tr>\n",
       "  </thead>\n",
       "  <tbody>\n",
       "    <tr>\n",
       "      <th>A biotech startup has managed to 3-D print fake rhino horns that carry the same genetic fingerprint as the actual horn. The company plans to flood Chinese rhino horn market at one-eighth of the price of the original, undercutting the price poachers can get and forcing them out eventually.</th>\n",
       "      <td>21253</td>\n",
       "    </tr>\n",
       "    <tr>\n",
       "      <th>Twitter has forced 30 websites that archive politician s deleted tweets to shut down, removing an effective tool to keep politicians honest</th>\n",
       "      <td>13435</td>\n",
       "    </tr>\n",
       "    <tr>\n",
       "      <th>2.6 terabyte leak of Panamanian shell company data reveals  how a global industry led by major banks, legal firms, and asset management companies secretly manages the estates of politicians, Fifa officials, fraudsters and drug smugglers, celebrities and professional athletes.</th>\n",
       "      <td>13244</td>\n",
       "    </tr>\n",
       "    <tr>\n",
       "      <th>The police officer who leaked the footage of the surfers paradise police brutality, where the victims blood was washed away by officers, has been criminally charged for bringing it to the publics view. Officers who did the bashing get nothing.</th>\n",
       "      <td>12333</td>\n",
       "    </tr>\n",
       "    <tr>\n",
       "      <th>Paris shooting survivor suing French media for giving away his location while he hid from shooters</th>\n",
       "      <td>11288</td>\n",
       "    </tr>\n",
       "    <tr>\n",
       "      <th>Hundreds of thousands of leaked emails reveal massively widespread corruption in global oil industry</th>\n",
       "      <td>11108</td>\n",
       "    </tr>\n",
       "    <tr>\n",
       "      <th>Brazil s Supreme Court has banned corporate contributions to political campaigns and parties</th>\n",
       "      <td>10922</td>\n",
       "    </tr>\n",
       "    <tr>\n",
       "      <th>ISIS beheads 81-year-old pioneer archaeologist and foremost scholar on ancient Syria. Held captive for 1 month, he refused to tell ISIS the location of the treasures of Palmyra unto death.</th>\n",
       "      <td>10515</td>\n",
       "    </tr>\n",
       "    <tr>\n",
       "      <th>Feeding cows seaweed could slash global greenhouse gas emissions, researchers say:  They discovered adding a small amount of dried seaweed to a cow s diet can reduce the amount of methane a cow produces by up to 99 per cent.</th>\n",
       "      <td>10394</td>\n",
       "    </tr>\n",
       "    <tr>\n",
       "      <th>Brazilian radio host famous for exposing corruption in his city murdered while broadcasting live on the air by two gunmen.</th>\n",
       "      <td>10377</td>\n",
       "    </tr>\n",
       "  </tbody>\n",
       "</table>\n",
       "</div>"
      ],
      "text/plain": [
       "                                                    up_votes\n",
       "title                                                       \n",
       "A biotech startup has managed to 3-D print fake...     21253\n",
       "Twitter has forced 30 websites that archive pol...     13435\n",
       "2.6 terabyte leak of Panamanian shell company d...     13244\n",
       "The police officer who leaked the footage of th...     12333\n",
       "Paris shooting survivor suing French media for ...     11288\n",
       "Hundreds of thousands of leaked emails reveal m...     11108\n",
       "Brazil s Supreme Court has banned corporate con...     10922\n",
       "ISIS beheads 81-year-old pioneer archaeologist ...     10515\n",
       "Feeding cows seaweed could slash global greenho...     10394\n",
       "Brazilian radio host famous for exposing corrup...     10377"
      ]
     },
     "execution_count": 13,
     "metadata": {},
     "output_type": "execute_result"
    }
   ],
   "source": [
    "# Looking at titles of most upvoted posts\n",
    "df['up_votes'].groupby(df['title']).sum().sort_values(ascending=False)[0:10].to_frame()"
   ]
  },
  {
   "cell_type": "code",
   "execution_count": 14,
   "metadata": {},
   "outputs": [
    {
     "data": {
      "text/html": [
       "<div>\n",
       "<style scoped>\n",
       "    .dataframe tbody tr th:only-of-type {\n",
       "        vertical-align: middle;\n",
       "    }\n",
       "\n",
       "    .dataframe tbody tr th {\n",
       "        vertical-align: top;\n",
       "    }\n",
       "\n",
       "    .dataframe thead th {\n",
       "        text-align: right;\n",
       "    }\n",
       "</style>\n",
       "<table border=\"1\" class=\"dataframe\">\n",
       "  <thead>\n",
       "    <tr style=\"text-align: right;\">\n",
       "      <th></th>\n",
       "      <th>time_created</th>\n",
       "      <th>date_created</th>\n",
       "      <th>up_votes</th>\n",
       "      <th>down_votes</th>\n",
       "      <th>title</th>\n",
       "      <th>over_18</th>\n",
       "      <th>author</th>\n",
       "    </tr>\n",
       "  </thead>\n",
       "  <tbody>\n",
       "    <tr>\n",
       "      <th>377200</th>\n",
       "      <td>1434818471</td>\n",
       "      <td>2015-06-20</td>\n",
       "      <td>21253</td>\n",
       "      <td>0</td>\n",
       "      <td>A biotech startup has managed to 3-D print fak...</td>\n",
       "      <td>False</td>\n",
       "      <td>KRISHNA53</td>\n",
       "    </tr>\n",
       "    <tr>\n",
       "      <th>391415</th>\n",
       "      <td>1440421079</td>\n",
       "      <td>2015-08-24</td>\n",
       "      <td>13435</td>\n",
       "      <td>0</td>\n",
       "      <td>Twitter has forced 30 websites that archive po...</td>\n",
       "      <td>False</td>\n",
       "      <td>joeyoungblood</td>\n",
       "    </tr>\n",
       "    <tr>\n",
       "      <th>450818</th>\n",
       "      <td>1459706506</td>\n",
       "      <td>2016-04-03</td>\n",
       "      <td>13244</td>\n",
       "      <td>0</td>\n",
       "      <td>2.6 terabyte leak of Panamanian shell company ...</td>\n",
       "      <td>False</td>\n",
       "      <td>mister_geaux</td>\n",
       "    </tr>\n",
       "    <tr>\n",
       "      <th>391318</th>\n",
       "      <td>1440367768</td>\n",
       "      <td>2015-08-23</td>\n",
       "      <td>12333</td>\n",
       "      <td>0</td>\n",
       "      <td>The police officer who leaked the footage of t...</td>\n",
       "      <td>False</td>\n",
       "      <td>navysealassulter</td>\n",
       "    </tr>\n",
       "    <tr>\n",
       "      <th>390252</th>\n",
       "      <td>1439939168</td>\n",
       "      <td>2015-08-18</td>\n",
       "      <td>11288</td>\n",
       "      <td>0</td>\n",
       "      <td>Paris shooting survivor suing French media for...</td>\n",
       "      <td>False</td>\n",
       "      <td>seapiglet</td>\n",
       "    </tr>\n",
       "    <tr>\n",
       "      <th>449809</th>\n",
       "      <td>1459336773</td>\n",
       "      <td>2016-03-30</td>\n",
       "      <td>11108</td>\n",
       "      <td>0</td>\n",
       "      <td>Hundreds of thousands of leaked emails reveal ...</td>\n",
       "      <td>False</td>\n",
       "      <td>Xiroth</td>\n",
       "    </tr>\n",
       "    <tr>\n",
       "      <th>397215</th>\n",
       "      <td>1442535288</td>\n",
       "      <td>2015-09-18</td>\n",
       "      <td>10922</td>\n",
       "      <td>0</td>\n",
       "      <td>Brazil s Supreme Court has banned corporate co...</td>\n",
       "      <td>False</td>\n",
       "      <td>DoremusJessup</td>\n",
       "    </tr>\n",
       "    <tr>\n",
       "      <th>390494</th>\n",
       "      <td>1440030633</td>\n",
       "      <td>2015-08-20</td>\n",
       "      <td>10515</td>\n",
       "      <td>0</td>\n",
       "      <td>ISIS beheads 81-year-old pioneer archaeologist...</td>\n",
       "      <td>False</td>\n",
       "      <td>DawgsOnTopUGA</td>\n",
       "    </tr>\n",
       "    <tr>\n",
       "      <th>500786</th>\n",
       "      <td>1476881235</td>\n",
       "      <td>2016-10-19</td>\n",
       "      <td>10394</td>\n",
       "      <td>0</td>\n",
       "      <td>Feeding cows seaweed could slash global greenh...</td>\n",
       "      <td>False</td>\n",
       "      <td>mvea</td>\n",
       "    </tr>\n",
       "    <tr>\n",
       "      <th>388230</th>\n",
       "      <td>1438963135</td>\n",
       "      <td>2015-08-07</td>\n",
       "      <td>10377</td>\n",
       "      <td>0</td>\n",
       "      <td>Brazilian radio host famous for exposing corru...</td>\n",
       "      <td>False</td>\n",
       "      <td>fiffers</td>\n",
       "    </tr>\n",
       "  </tbody>\n",
       "</table>\n",
       "</div>"
      ],
      "text/plain": [
       "        time_created date_created  up_votes  down_votes  \\\n",
       "377200    1434818471   2015-06-20     21253           0   \n",
       "391415    1440421079   2015-08-24     13435           0   \n",
       "450818    1459706506   2016-04-03     13244           0   \n",
       "391318    1440367768   2015-08-23     12333           0   \n",
       "390252    1439939168   2015-08-18     11288           0   \n",
       "449809    1459336773   2016-03-30     11108           0   \n",
       "397215    1442535288   2015-09-18     10922           0   \n",
       "390494    1440030633   2015-08-20     10515           0   \n",
       "500786    1476881235   2016-10-19     10394           0   \n",
       "388230    1438963135   2015-08-07     10377           0   \n",
       "\n",
       "                                                    title  over_18  \\\n",
       "377200  A biotech startup has managed to 3-D print fak...    False   \n",
       "391415  Twitter has forced 30 websites that archive po...    False   \n",
       "450818  2.6 terabyte leak of Panamanian shell company ...    False   \n",
       "391318  The police officer who leaked the footage of t...    False   \n",
       "390252  Paris shooting survivor suing French media for...    False   \n",
       "449809  Hundreds of thousands of leaked emails reveal ...    False   \n",
       "397215  Brazil s Supreme Court has banned corporate co...    False   \n",
       "390494  ISIS beheads 81-year-old pioneer archaeologist...    False   \n",
       "500786  Feeding cows seaweed could slash global greenh...    False   \n",
       "388230  Brazilian radio host famous for exposing corru...    False   \n",
       "\n",
       "                  author  \n",
       "377200         KRISHNA53  \n",
       "391415     joeyoungblood  \n",
       "450818      mister_geaux  \n",
       "391318  navysealassulter  \n",
       "390252         seapiglet  \n",
       "449809            Xiroth  \n",
       "397215     DoremusJessup  \n",
       "390494     DawgsOnTopUGA  \n",
       "500786              mvea  \n",
       "388230           fiffers  "
      ]
     },
     "execution_count": 14,
     "metadata": {},
     "output_type": "execute_result"
    }
   ],
   "source": [
    "df.sort_values('up_votes', ascending=False)[0:10]"
   ]
  },
  {
   "cell_type": "code",
   "execution_count": 15,
   "metadata": {},
   "outputs": [
    {
     "data": {
      "text/html": [
       "<div>\n",
       "<style scoped>\n",
       "    .dataframe tbody tr th:only-of-type {\n",
       "        vertical-align: middle;\n",
       "    }\n",
       "\n",
       "    .dataframe tbody tr th {\n",
       "        vertical-align: top;\n",
       "    }\n",
       "\n",
       "    .dataframe thead th {\n",
       "        text-align: right;\n",
       "    }\n",
       "</style>\n",
       "<table border=\"1\" class=\"dataframe\">\n",
       "  <thead>\n",
       "    <tr style=\"text-align: right;\">\n",
       "      <th></th>\n",
       "      <th>time_created</th>\n",
       "      <th>date_created</th>\n",
       "      <th>up_votes</th>\n",
       "      <th>down_votes</th>\n",
       "      <th>title</th>\n",
       "      <th>over_18</th>\n",
       "      <th>author</th>\n",
       "    </tr>\n",
       "  </thead>\n",
       "  <tbody>\n",
       "    <tr>\n",
       "      <th>0</th>\n",
       "      <td>1201232046</td>\n",
       "      <td>2008-01-25</td>\n",
       "      <td>3</td>\n",
       "      <td>0</td>\n",
       "      <td>Scores killed in Pakistan clashes</td>\n",
       "      <td>False</td>\n",
       "      <td>polar</td>\n",
       "    </tr>\n",
       "    <tr>\n",
       "      <th>1</th>\n",
       "      <td>1201232075</td>\n",
       "      <td>2008-01-25</td>\n",
       "      <td>2</td>\n",
       "      <td>0</td>\n",
       "      <td>Japan resumes refuelling mission</td>\n",
       "      <td>False</td>\n",
       "      <td>polar</td>\n",
       "    </tr>\n",
       "    <tr>\n",
       "      <th>2</th>\n",
       "      <td>1201232523</td>\n",
       "      <td>2008-01-25</td>\n",
       "      <td>3</td>\n",
       "      <td>0</td>\n",
       "      <td>US presses Egypt on Gaza border</td>\n",
       "      <td>False</td>\n",
       "      <td>polar</td>\n",
       "    </tr>\n",
       "    <tr>\n",
       "      <th>3</th>\n",
       "      <td>1201233290</td>\n",
       "      <td>2008-01-25</td>\n",
       "      <td>1</td>\n",
       "      <td>0</td>\n",
       "      <td>Jump-start economy: Give health care to all</td>\n",
       "      <td>False</td>\n",
       "      <td>fadi420</td>\n",
       "    </tr>\n",
       "    <tr>\n",
       "      <th>4</th>\n",
       "      <td>1201274720</td>\n",
       "      <td>2008-01-25</td>\n",
       "      <td>4</td>\n",
       "      <td>0</td>\n",
       "      <td>Council of Europe bashes EU&amp;UN terror blacklist</td>\n",
       "      <td>False</td>\n",
       "      <td>mhermans</td>\n",
       "    </tr>\n",
       "  </tbody>\n",
       "</table>\n",
       "</div>"
      ],
      "text/plain": [
       "   time_created date_created  up_votes  down_votes  \\\n",
       "0    1201232046   2008-01-25         3           0   \n",
       "1    1201232075   2008-01-25         2           0   \n",
       "2    1201232523   2008-01-25         3           0   \n",
       "3    1201233290   2008-01-25         1           0   \n",
       "4    1201274720   2008-01-25         4           0   \n",
       "\n",
       "                                             title  over_18    author  \n",
       "0                Scores killed in Pakistan clashes    False     polar  \n",
       "1                 Japan resumes refuelling mission    False     polar  \n",
       "2                  US presses Egypt on Gaza border    False     polar  \n",
       "3     Jump-start economy: Give health care to all     False   fadi420  \n",
       "4  Council of Europe bashes EU&UN terror blacklist    False  mhermans  "
      ]
     },
     "execution_count": 15,
     "metadata": {},
     "output_type": "execute_result"
    }
   ],
   "source": [
    "df.head()"
   ]
  },
  {
   "cell_type": "markdown",
   "metadata": {},
   "source": [
    "---"
   ]
  },
  {
   "cell_type": "code",
   "execution_count": 16,
   "metadata": {},
   "outputs": [
    {
     "name": "stdout",
     "output_type": "stream",
     "text": [
      "Number of unique authors: 85838\n",
      "-----\n",
      "Top 20 contributors by post count: \n",
      "davidreiss666         8897\n",
      "anutensil             5730\n",
      "DoremusJessup         5037\n",
      "maxwellhill           4023\n",
      "igeldard              4013\n",
      "readerseven           3170\n",
      "twolf1                2923\n",
      "madam1                2658\n",
      "nimobo                2564\n",
      "madazzahatter         2503\n",
      "ionised               2493\n",
      "NinjaDiscoJesus       2448\n",
      "bridgesfreezefirst    2405\n",
      "SolInvictus           2181\n",
      "Libertatea            2108\n",
      "vigorous              2077\n",
      "galt1776              1897\n",
      "DougBolivar           1770\n",
      "bob21doh              1698\n",
      "trot-trot             1649\n",
      "Name: author, dtype: int64\n",
      "-----\n",
      "Top 20 contributors by upvotes: \n",
      "author\n",
      "maxwellhill         1985416\n",
      "anutensil           1531544\n",
      "Libertatea           832102\n",
      "DoremusJessup        584380\n",
      "Wagamaga             580121\n",
      "NinjaDiscoJesus      492582\n",
      "madazzahatter        428966\n",
      "madam1               390541\n",
      "davidreiss666        338306\n",
      "kulkke               333311\n",
      "pnewell              297270\n",
      "nimobo               266733\n",
      "trot-trot            258367\n",
      "ionised              256159\n",
      "EightRoundsRapid     254670\n",
      "twolf1               230031\n",
      "mepper               223369\n",
      "PanAfrica            219742\n",
      "readerseven          209225\n",
      "green_flash          205554\n",
      "Name: up_votes, dtype: int64\n"
     ]
    }
   ],
   "source": [
    "print(f\"Number of unique authors: {len(df['author'].unique())}\")\n",
    "print('-----')\n",
    "print(f\"Top 20 contributors by post count: \\n{df['author'].value_counts()[0:20]}\")\n",
    "print('-----')\n",
    "print(f\"Top 20 contributors by upvotes: \\n{df['up_votes'].groupby(df['author']).sum().sort_values(ascending=False)[0:20]}\")"
   ]
  },
  {
   "cell_type": "markdown",
   "metadata": {},
   "source": [
    "---"
   ]
  },
  {
   "cell_type": "code",
   "execution_count": 17,
   "metadata": {},
   "outputs": [
    {
     "name": "stdout",
     "output_type": "stream",
     "text": [
      "False    508916\n",
      "True        320\n",
      "Name: over_18, dtype: int64\n",
      "False    0.999372\n",
      "True     0.000628\n",
      "Name: over_18, dtype: float64\n"
     ]
    }
   ],
   "source": [
    "# Looking at distribution of 'over_18' posts by number and percentage\n",
    "print(df['over_18'].value_counts())\n",
    "print(df['over_18'].value_counts(normalize=True))"
   ]
  },
  {
   "cell_type": "code",
   "execution_count": 18,
   "metadata": {},
   "outputs": [
    {
     "data": {
      "text/html": [
       "<div>\n",
       "<style scoped>\n",
       "    .dataframe tbody tr th:only-of-type {\n",
       "        vertical-align: middle;\n",
       "    }\n",
       "\n",
       "    .dataframe tbody tr th {\n",
       "        vertical-align: top;\n",
       "    }\n",
       "\n",
       "    .dataframe thead th {\n",
       "        text-align: right;\n",
       "    }\n",
       "</style>\n",
       "<table border=\"1\" class=\"dataframe\">\n",
       "  <thead>\n",
       "    <tr style=\"text-align: right;\">\n",
       "      <th></th>\n",
       "      <th>time_created</th>\n",
       "      <th>date_created</th>\n",
       "      <th>up_votes</th>\n",
       "      <th>down_votes</th>\n",
       "      <th>title</th>\n",
       "      <th>over_18</th>\n",
       "      <th>author</th>\n",
       "    </tr>\n",
       "  </thead>\n",
       "  <tbody>\n",
       "    <tr>\n",
       "      <th>1885</th>\n",
       "      <td>1206381438</td>\n",
       "      <td>2008-03-24</td>\n",
       "      <td>189</td>\n",
       "      <td>0</td>\n",
       "      <td>Pics from the Tibetan protests - more graphic ...</td>\n",
       "      <td>True</td>\n",
       "      <td>pressed</td>\n",
       "    </tr>\n",
       "    <tr>\n",
       "      <th>6721</th>\n",
       "      <td>1211138718</td>\n",
       "      <td>2008-05-18</td>\n",
       "      <td>5</td>\n",
       "      <td>0</td>\n",
       "      <td>MI5 linked to Max Mosley’s Nazi-style, sadomas...</td>\n",
       "      <td>True</td>\n",
       "      <td>alllie</td>\n",
       "    </tr>\n",
       "    <tr>\n",
       "      <th>8414</th>\n",
       "      <td>1212694925</td>\n",
       "      <td>2008-06-05</td>\n",
       "      <td>0</td>\n",
       "      <td>0</td>\n",
       "      <td>Tabloid Horrifies Germany: Poland s Yellow Pre...</td>\n",
       "      <td>True</td>\n",
       "      <td>stesch</td>\n",
       "    </tr>\n",
       "    <tr>\n",
       "      <th>12163</th>\n",
       "      <td>1216672016</td>\n",
       "      <td>2008-07-21</td>\n",
       "      <td>0</td>\n",
       "      <td>0</td>\n",
       "      <td>Love Parade Dortmund: Techno Festival Breaks R...</td>\n",
       "      <td>True</td>\n",
       "      <td>stesch</td>\n",
       "    </tr>\n",
       "    <tr>\n",
       "      <th>12699</th>\n",
       "      <td>1217381380</td>\n",
       "      <td>2008-07-30</td>\n",
       "      <td>5</td>\n",
       "      <td>0</td>\n",
       "      <td>IDF kills young Palestinian boy. Potentially N...</td>\n",
       "      <td>True</td>\n",
       "      <td>cup</td>\n",
       "    </tr>\n",
       "    <tr>\n",
       "      <th>...</th>\n",
       "      <td>...</td>\n",
       "      <td>...</td>\n",
       "      <td>...</td>\n",
       "      <td>...</td>\n",
       "      <td>...</td>\n",
       "      <td>...</td>\n",
       "      <td>...</td>\n",
       "    </tr>\n",
       "    <tr>\n",
       "      <th>503776</th>\n",
       "      <td>1477889966</td>\n",
       "      <td>2016-10-31</td>\n",
       "      <td>4</td>\n",
       "      <td>0</td>\n",
       "      <td>Latest Italian Earthquake Devastates Medieval ...</td>\n",
       "      <td>True</td>\n",
       "      <td>pixelinthe</td>\n",
       "    </tr>\n",
       "    <tr>\n",
       "      <th>508067</th>\n",
       "      <td>1479400229</td>\n",
       "      <td>2016-11-17</td>\n",
       "      <td>12</td>\n",
       "      <td>0</td>\n",
       "      <td>ISIS Release Video Showing Melbourne As A Poss...</td>\n",
       "      <td>True</td>\n",
       "      <td>halacska</td>\n",
       "    </tr>\n",
       "    <tr>\n",
       "      <th>508176</th>\n",
       "      <td>1479434681</td>\n",
       "      <td>2016-11-18</td>\n",
       "      <td>0</td>\n",
       "      <td>0</td>\n",
       "      <td>Animal welfare activists have released footage...</td>\n",
       "      <td>True</td>\n",
       "      <td>NinjaDiscoJesus</td>\n",
       "    </tr>\n",
       "    <tr>\n",
       "      <th>508376</th>\n",
       "      <td>1479492875</td>\n",
       "      <td>2016-11-18</td>\n",
       "      <td>6</td>\n",
       "      <td>0</td>\n",
       "      <td>Jungle Justice : Public lynching of a street ...</td>\n",
       "      <td>True</td>\n",
       "      <td>avivi_</td>\n",
       "    </tr>\n",
       "    <tr>\n",
       "      <th>508706</th>\n",
       "      <td>1479641575</td>\n",
       "      <td>2016-11-20</td>\n",
       "      <td>0</td>\n",
       "      <td>0</td>\n",
       "      <td>[NSFW] Teenage boy run over by  Iraqi army tan...</td>\n",
       "      <td>True</td>\n",
       "      <td>atyzer</td>\n",
       "    </tr>\n",
       "  </tbody>\n",
       "</table>\n",
       "<p>320 rows × 7 columns</p>\n",
       "</div>"
      ],
      "text/plain": [
       "        time_created date_created  up_votes  down_votes  \\\n",
       "1885      1206381438   2008-03-24       189           0   \n",
       "6721      1211138718   2008-05-18         5           0   \n",
       "8414      1212694925   2008-06-05         0           0   \n",
       "12163     1216672016   2008-07-21         0           0   \n",
       "12699     1217381380   2008-07-30         5           0   \n",
       "...              ...          ...       ...         ...   \n",
       "503776    1477889966   2016-10-31         4           0   \n",
       "508067    1479400229   2016-11-17        12           0   \n",
       "508176    1479434681   2016-11-18         0           0   \n",
       "508376    1479492875   2016-11-18         6           0   \n",
       "508706    1479641575   2016-11-20         0           0   \n",
       "\n",
       "                                                    title  over_18  \\\n",
       "1885    Pics from the Tibetan protests - more graphic ...     True   \n",
       "6721    MI5 linked to Max Mosley’s Nazi-style, sadomas...     True   \n",
       "8414    Tabloid Horrifies Germany: Poland s Yellow Pre...     True   \n",
       "12163   Love Parade Dortmund: Techno Festival Breaks R...     True   \n",
       "12699   IDF kills young Palestinian boy. Potentially N...     True   \n",
       "...                                                   ...      ...   \n",
       "503776  Latest Italian Earthquake Devastates Medieval ...     True   \n",
       "508067  ISIS Release Video Showing Melbourne As A Poss...     True   \n",
       "508176  Animal welfare activists have released footage...     True   \n",
       "508376   Jungle Justice : Public lynching of a street ...     True   \n",
       "508706  [NSFW] Teenage boy run over by  Iraqi army tan...     True   \n",
       "\n",
       "                 author  \n",
       "1885            pressed  \n",
       "6721             alllie  \n",
       "8414             stesch  \n",
       "12163            stesch  \n",
       "12699               cup  \n",
       "...                 ...  \n",
       "503776       pixelinthe  \n",
       "508067         halacska  \n",
       "508176  NinjaDiscoJesus  \n",
       "508376           avivi_  \n",
       "508706           atyzer  \n",
       "\n",
       "[320 rows x 7 columns]"
      ]
     },
     "execution_count": 18,
     "metadata": {},
     "output_type": "execute_result"
    }
   ],
   "source": [
    "# Checking title content of some of the posts classified as \"over_18\"\n",
    "df[df['over_18'] == True]"
   ]
  },
  {
   "cell_type": "code",
   "execution_count": 19,
   "metadata": {},
   "outputs": [
    {
     "data": {
      "text/html": [
       "<div>\n",
       "<style scoped>\n",
       "    .dataframe tbody tr th:only-of-type {\n",
       "        vertical-align: middle;\n",
       "    }\n",
       "\n",
       "    .dataframe tbody tr th {\n",
       "        vertical-align: top;\n",
       "    }\n",
       "\n",
       "    .dataframe thead th {\n",
       "        text-align: right;\n",
       "    }\n",
       "</style>\n",
       "<table border=\"1\" class=\"dataframe\">\n",
       "  <thead>\n",
       "    <tr style=\"text-align: right;\">\n",
       "      <th></th>\n",
       "      <th>time_created</th>\n",
       "      <th>date_created</th>\n",
       "      <th>up_votes</th>\n",
       "      <th>down_votes</th>\n",
       "      <th>title</th>\n",
       "      <th>over_18</th>\n",
       "      <th>author</th>\n",
       "    </tr>\n",
       "  </thead>\n",
       "  <tbody>\n",
       "    <tr>\n",
       "      <th>500590</th>\n",
       "      <td>1476806936</td>\n",
       "      <td>2016-10-18</td>\n",
       "      <td>7941</td>\n",
       "      <td>0</td>\n",
       "      <td>Judge presiding over  El Chapo s  case shot, k...</td>\n",
       "      <td>True</td>\n",
       "      <td>IsleCook</td>\n",
       "    </tr>\n",
       "    <tr>\n",
       "      <th>494536</th>\n",
       "      <td>1474805114</td>\n",
       "      <td>2016-09-25</td>\n",
       "      <td>6322</td>\n",
       "      <td>0</td>\n",
       "      <td>[NSFL] Australian child molester Peter Scully ...</td>\n",
       "      <td>True</td>\n",
       "      <td>ExWhySaid</td>\n",
       "    </tr>\n",
       "    <tr>\n",
       "      <th>428689</th>\n",
       "      <td>1452167289</td>\n",
       "      <td>2016-01-07</td>\n",
       "      <td>5878</td>\n",
       "      <td>0</td>\n",
       "      <td>Armed suspect shot dead after trying to storm ...</td>\n",
       "      <td>True</td>\n",
       "      <td>rawmas02</td>\n",
       "    </tr>\n",
       "    <tr>\n",
       "      <th>462067</th>\n",
       "      <td>1463480226</td>\n",
       "      <td>2016-05-17</td>\n",
       "      <td>5617</td>\n",
       "      <td>0</td>\n",
       "      <td>Syria Army killed over 200 ISIS militants in 3...</td>\n",
       "      <td>True</td>\n",
       "      <td>orangeflower2015</td>\n",
       "    </tr>\n",
       "    <tr>\n",
       "      <th>303900</th>\n",
       "      <td>1409942733</td>\n",
       "      <td>2014-09-05</td>\n",
       "      <td>5507</td>\n",
       "      <td>0</td>\n",
       "      <td>Man escapes ISIS execution</td>\n",
       "      <td>True</td>\n",
       "      <td>brothamo</td>\n",
       "    </tr>\n",
       "    <tr>\n",
       "      <th>461255</th>\n",
       "      <td>1463150094</td>\n",
       "      <td>2016-05-13</td>\n",
       "      <td>4839</td>\n",
       "      <td>0</td>\n",
       "      <td>ISIS massacre 14 Real Madrid fans at supporter...</td>\n",
       "      <td>True</td>\n",
       "      <td>PeterG92</td>\n",
       "    </tr>\n",
       "    <tr>\n",
       "      <th>376435</th>\n",
       "      <td>1434501068</td>\n",
       "      <td>2015-06-17</td>\n",
       "      <td>4209</td>\n",
       "      <td>0</td>\n",
       "      <td>The fight is on to stop an annual Chinese even...</td>\n",
       "      <td>True</td>\n",
       "      <td>ShakoWasAngry</td>\n",
       "    </tr>\n",
       "    <tr>\n",
       "      <th>269963</th>\n",
       "      <td>1398120460</td>\n",
       "      <td>2014-04-21</td>\n",
       "      <td>3831</td>\n",
       "      <td>0</td>\n",
       "      <td>China: “Violent Government Thugs” Beaten To De...</td>\n",
       "      <td>True</td>\n",
       "      <td>helpmesleep666</td>\n",
       "    </tr>\n",
       "    <tr>\n",
       "      <th>431221</th>\n",
       "      <td>1453095585</td>\n",
       "      <td>2016-01-18</td>\n",
       "      <td>3823</td>\n",
       "      <td>0</td>\n",
       "      <td>ISIS commits largest massacre since Syrian con...</td>\n",
       "      <td>True</td>\n",
       "      <td>AllenDono</td>\n",
       "    </tr>\n",
       "    <tr>\n",
       "      <th>246618</th>\n",
       "      <td>1390489347</td>\n",
       "      <td>2014-01-23</td>\n",
       "      <td>3738</td>\n",
       "      <td>0</td>\n",
       "      <td>Video of riot police stripping detained protes...</td>\n",
       "      <td>True</td>\n",
       "      <td>_skylark</td>\n",
       "    </tr>\n",
       "  </tbody>\n",
       "</table>\n",
       "</div>"
      ],
      "text/plain": [
       "        time_created date_created  up_votes  down_votes  \\\n",
       "500590    1476806936   2016-10-18      7941           0   \n",
       "494536    1474805114   2016-09-25      6322           0   \n",
       "428689    1452167289   2016-01-07      5878           0   \n",
       "462067    1463480226   2016-05-17      5617           0   \n",
       "303900    1409942733   2014-09-05      5507           0   \n",
       "461255    1463150094   2016-05-13      4839           0   \n",
       "376435    1434501068   2015-06-17      4209           0   \n",
       "269963    1398120460   2014-04-21      3831           0   \n",
       "431221    1453095585   2016-01-18      3823           0   \n",
       "246618    1390489347   2014-01-23      3738           0   \n",
       "\n",
       "                                                    title  over_18  \\\n",
       "500590  Judge presiding over  El Chapo s  case shot, k...     True   \n",
       "494536  [NSFL] Australian child molester Peter Scully ...     True   \n",
       "428689  Armed suspect shot dead after trying to storm ...     True   \n",
       "462067  Syria Army killed over 200 ISIS militants in 3...     True   \n",
       "303900                         Man escapes ISIS execution     True   \n",
       "461255  ISIS massacre 14 Real Madrid fans at supporter...     True   \n",
       "376435  The fight is on to stop an annual Chinese even...     True   \n",
       "269963  China: “Violent Government Thugs” Beaten To De...     True   \n",
       "431221  ISIS commits largest massacre since Syrian con...     True   \n",
       "246618  Video of riot police stripping detained protes...     True   \n",
       "\n",
       "                  author  \n",
       "500590          IsleCook  \n",
       "494536         ExWhySaid  \n",
       "428689          rawmas02  \n",
       "462067  orangeflower2015  \n",
       "303900          brothamo  \n",
       "461255          PeterG92  \n",
       "376435     ShakoWasAngry  \n",
       "269963    helpmesleep666  \n",
       "431221         AllenDono  \n",
       "246618          _skylark  "
      ]
     },
     "execution_count": 19,
     "metadata": {},
     "output_type": "execute_result"
    }
   ],
   "source": [
    "nsfw = df[df['over_18'] == True]\n",
    "nsfw.sort_values(by='up_votes', ascending=False)[0:10]"
   ]
  },
  {
   "cell_type": "code",
   "execution_count": null,
   "metadata": {},
   "outputs": [],
   "source": []
  },
  {
   "cell_type": "markdown",
   "metadata": {},
   "source": [
    "---"
   ]
  },
  {
   "cell_type": "markdown",
   "metadata": {},
   "source": [
    "## Feature Engineering"
   ]
  },
  {
   "cell_type": "code",
   "execution_count": 51,
   "metadata": {},
   "outputs": [],
   "source": [
    "# Generating features to hold total author posts and total author upvotes alongside each post\n",
    "df['author_posts'] = df['author'].groupby(df['author']).transform('count')"
   ]
  },
  {
   "cell_type": "code",
   "execution_count": 58,
   "metadata": {},
   "outputs": [
    {
     "data": {
      "text/plain": [
       "0          1151\n",
       "1          1151\n",
       "2          1151\n",
       "3             1\n",
       "4             4\n",
       "          ...  \n",
       "509231      105\n",
       "509232        1\n",
       "509233       16\n",
       "509234      429\n",
       "509235    30314\n",
       "Name: up_votes, Length: 509236, dtype: int64"
      ]
     },
     "execution_count": 58,
     "metadata": {},
     "output_type": "execute_result"
    }
   ],
   "source": [
    "df['author_upvotes'] = df['up_votes'].groupby(df['author']).transform('sum')"
   ]
  },
  {
   "cell_type": "code",
   "execution_count": 57,
   "metadata": {},
   "outputs": [
    {
     "data": {
      "text/html": [
       "<div>\n",
       "<style scoped>\n",
       "    .dataframe tbody tr th:only-of-type {\n",
       "        vertical-align: middle;\n",
       "    }\n",
       "\n",
       "    .dataframe tbody tr th {\n",
       "        vertical-align: top;\n",
       "    }\n",
       "\n",
       "    .dataframe thead th {\n",
       "        text-align: right;\n",
       "    }\n",
       "</style>\n",
       "<table border=\"1\" class=\"dataframe\">\n",
       "  <thead>\n",
       "    <tr style=\"text-align: right;\">\n",
       "      <th></th>\n",
       "      <th>time_created</th>\n",
       "      <th>date_created</th>\n",
       "      <th>up_votes</th>\n",
       "      <th>down_votes</th>\n",
       "      <th>title</th>\n",
       "      <th>over_18</th>\n",
       "      <th>author</th>\n",
       "      <th>category</th>\n",
       "      <th>author_upvotes</th>\n",
       "    </tr>\n",
       "  </thead>\n",
       "  <tbody>\n",
       "    <tr>\n",
       "      <th>0</th>\n",
       "      <td>1201232046</td>\n",
       "      <td>2008-01-25</td>\n",
       "      <td>3</td>\n",
       "      <td>0</td>\n",
       "      <td>Scores killed in Pakistan clashes</td>\n",
       "      <td>False</td>\n",
       "      <td>polar</td>\n",
       "      <td>worldnews</td>\n",
       "      <td>1151</td>\n",
       "    </tr>\n",
       "    <tr>\n",
       "      <th>1</th>\n",
       "      <td>1201232075</td>\n",
       "      <td>2008-01-25</td>\n",
       "      <td>2</td>\n",
       "      <td>0</td>\n",
       "      <td>Japan resumes refuelling mission</td>\n",
       "      <td>False</td>\n",
       "      <td>polar</td>\n",
       "      <td>worldnews</td>\n",
       "      <td>1151</td>\n",
       "    </tr>\n",
       "    <tr>\n",
       "      <th>2</th>\n",
       "      <td>1201232523</td>\n",
       "      <td>2008-01-25</td>\n",
       "      <td>3</td>\n",
       "      <td>0</td>\n",
       "      <td>US presses Egypt on Gaza border</td>\n",
       "      <td>False</td>\n",
       "      <td>polar</td>\n",
       "      <td>worldnews</td>\n",
       "      <td>1151</td>\n",
       "    </tr>\n",
       "    <tr>\n",
       "      <th>3</th>\n",
       "      <td>1201233290</td>\n",
       "      <td>2008-01-25</td>\n",
       "      <td>1</td>\n",
       "      <td>0</td>\n",
       "      <td>Jump-start economy: Give health care to all</td>\n",
       "      <td>False</td>\n",
       "      <td>fadi420</td>\n",
       "      <td>worldnews</td>\n",
       "      <td>1</td>\n",
       "    </tr>\n",
       "    <tr>\n",
       "      <th>4</th>\n",
       "      <td>1201274720</td>\n",
       "      <td>2008-01-25</td>\n",
       "      <td>4</td>\n",
       "      <td>0</td>\n",
       "      <td>Council of Europe bashes EU&amp;UN terror blacklist</td>\n",
       "      <td>False</td>\n",
       "      <td>mhermans</td>\n",
       "      <td>worldnews</td>\n",
       "      <td>4</td>\n",
       "    </tr>\n",
       "    <tr>\n",
       "      <th>...</th>\n",
       "      <td>...</td>\n",
       "      <td>...</td>\n",
       "      <td>...</td>\n",
       "      <td>...</td>\n",
       "      <td>...</td>\n",
       "      <td>...</td>\n",
       "      <td>...</td>\n",
       "      <td>...</td>\n",
       "      <td>...</td>\n",
       "    </tr>\n",
       "    <tr>\n",
       "      <th>509231</th>\n",
       "      <td>1479816764</td>\n",
       "      <td>2016-11-22</td>\n",
       "      <td>5</td>\n",
       "      <td>0</td>\n",
       "      <td>Heil Trump : Donald Trump s  alt-right  white...</td>\n",
       "      <td>False</td>\n",
       "      <td>nonamenoglory</td>\n",
       "      <td>worldnews</td>\n",
       "      <td>105</td>\n",
       "    </tr>\n",
       "    <tr>\n",
       "      <th>509232</th>\n",
       "      <td>1479816772</td>\n",
       "      <td>2016-11-22</td>\n",
       "      <td>1</td>\n",
       "      <td>0</td>\n",
       "      <td>There are people speculating that this could b...</td>\n",
       "      <td>False</td>\n",
       "      <td>SummerRay</td>\n",
       "      <td>worldnews</td>\n",
       "      <td>1</td>\n",
       "    </tr>\n",
       "    <tr>\n",
       "      <th>509233</th>\n",
       "      <td>1479817056</td>\n",
       "      <td>2016-11-22</td>\n",
       "      <td>1</td>\n",
       "      <td>0</td>\n",
       "      <td>Professor receives Arab Researchers Award</td>\n",
       "      <td>False</td>\n",
       "      <td>AUSharjah</td>\n",
       "      <td>worldnews</td>\n",
       "      <td>16</td>\n",
       "    </tr>\n",
       "    <tr>\n",
       "      <th>509234</th>\n",
       "      <td>1479817157</td>\n",
       "      <td>2016-11-22</td>\n",
       "      <td>1</td>\n",
       "      <td>0</td>\n",
       "      <td>Nigel Farage attacks response to Trump ambassa...</td>\n",
       "      <td>False</td>\n",
       "      <td>smilyflower</td>\n",
       "      <td>worldnews</td>\n",
       "      <td>429</td>\n",
       "    </tr>\n",
       "    <tr>\n",
       "      <th>509235</th>\n",
       "      <td>1479817346</td>\n",
       "      <td>2016-11-22</td>\n",
       "      <td>1</td>\n",
       "      <td>0</td>\n",
       "      <td>Palestinian wielding knife shot dead in West B...</td>\n",
       "      <td>False</td>\n",
       "      <td>superislam</td>\n",
       "      <td>worldnews</td>\n",
       "      <td>30314</td>\n",
       "    </tr>\n",
       "  </tbody>\n",
       "</table>\n",
       "<p>509236 rows × 9 columns</p>\n",
       "</div>"
      ],
      "text/plain": [
       "        time_created date_created  up_votes  down_votes  \\\n",
       "0         1201232046   2008-01-25         3           0   \n",
       "1         1201232075   2008-01-25         2           0   \n",
       "2         1201232523   2008-01-25         3           0   \n",
       "3         1201233290   2008-01-25         1           0   \n",
       "4         1201274720   2008-01-25         4           0   \n",
       "...              ...          ...       ...         ...   \n",
       "509231    1479816764   2016-11-22         5           0   \n",
       "509232    1479816772   2016-11-22         1           0   \n",
       "509233    1479817056   2016-11-22         1           0   \n",
       "509234    1479817157   2016-11-22         1           0   \n",
       "509235    1479817346   2016-11-22         1           0   \n",
       "\n",
       "                                                    title  over_18  \\\n",
       "0                       Scores killed in Pakistan clashes    False   \n",
       "1                        Japan resumes refuelling mission    False   \n",
       "2                         US presses Egypt on Gaza border    False   \n",
       "3            Jump-start economy: Give health care to all     False   \n",
       "4         Council of Europe bashes EU&UN terror blacklist    False   \n",
       "...                                                   ...      ...   \n",
       "509231   Heil Trump : Donald Trump s  alt-right  white...    False   \n",
       "509232  There are people speculating that this could b...    False   \n",
       "509233          Professor receives Arab Researchers Award    False   \n",
       "509234  Nigel Farage attacks response to Trump ambassa...    False   \n",
       "509235  Palestinian wielding knife shot dead in West B...    False   \n",
       "\n",
       "               author   category  author_upvotes  \n",
       "0               polar  worldnews            1151  \n",
       "1               polar  worldnews            1151  \n",
       "2               polar  worldnews            1151  \n",
       "3             fadi420  worldnews               1  \n",
       "4            mhermans  worldnews               4  \n",
       "...               ...        ...             ...  \n",
       "509231  nonamenoglory  worldnews             105  \n",
       "509232      SummerRay  worldnews               1  \n",
       "509233      AUSharjah  worldnews              16  \n",
       "509234    smilyflower  worldnews             429  \n",
       "509235     superislam  worldnews           30314  \n",
       "\n",
       "[509236 rows x 9 columns]"
      ]
     },
     "execution_count": 57,
     "metadata": {},
     "output_type": "execute_result"
    }
   ],
   "source": [
    "df.head(3)"
   ]
  },
  {
   "cell_type": "markdown",
   "metadata": {},
   "source": [
    "---\n",
    "---\n",
    "## NLP"
   ]
  },
  {
   "cell_type": "code",
   "execution_count": 20,
   "metadata": {},
   "outputs": [],
   "source": [
    "nlp = spacy.load('en_core_web_sm')"
   ]
  },
  {
   "cell_type": "code",
   "execution_count": 21,
   "metadata": {},
   "outputs": [],
   "source": [
    "test_title = df['title'][111111]"
   ]
  },
  {
   "cell_type": "code",
   "execution_count": 22,
   "metadata": {},
   "outputs": [
    {
     "data": {
      "text/plain": [
       "'A man  who put his fiancée in a cardboard computer box and tried to bury her alive because he was bored with her was sentenced today to 20 years in prison.'"
      ]
     },
     "execution_count": 22,
     "metadata": {},
     "output_type": "execute_result"
    }
   ],
   "source": [
    "df['title'][111111]"
   ]
  },
  {
   "cell_type": "code",
   "execution_count": 23,
   "metadata": {},
   "outputs": [
    {
     "name": "stdout",
     "output_type": "stream",
     "text": [
      "['A man', 'who', 'his fiancée', 'a cardboard computer box', 'her', 'he', 'her', '20 years', 'prison']\n",
      "-----\n",
      "['put', 'try', 'bury', 'be', 'sentence']\n",
      "-----\n",
      "today DATE\n",
      "20 years DATE\n"
     ]
    }
   ],
   "source": [
    "# From https://spacy.io/ demo code\n",
    "doc = nlp(test_title)\n",
    "\n",
    "print([noun_phrases.text for noun_phrases in doc.noun_chunks])\n",
    "print('-----')\n",
    "print([token.lemma_ for token in doc if token.pos_ == \"VERB\"])\n",
    "print('-----')\n",
    "for entity in doc.ents:\n",
    "    print(entity.text, entity.label_)"
   ]
  },
  {
   "cell_type": "code",
   "execution_count": null,
   "metadata": {},
   "outputs": [],
   "source": []
  },
  {
   "cell_type": "code",
   "execution_count": 24,
   "metadata": {},
   "outputs": [
    {
     "data": {
      "text/html": [
       "<div>\n",
       "<style scoped>\n",
       "    .dataframe tbody tr th:only-of-type {\n",
       "        vertical-align: middle;\n",
       "    }\n",
       "\n",
       "    .dataframe tbody tr th {\n",
       "        vertical-align: top;\n",
       "    }\n",
       "\n",
       "    .dataframe thead th {\n",
       "        text-align: right;\n",
       "    }\n",
       "</style>\n",
       "<table border=\"1\" class=\"dataframe\">\n",
       "  <thead>\n",
       "    <tr style=\"text-align: right;\">\n",
       "      <th></th>\n",
       "      <th>time_created</th>\n",
       "      <th>date_created</th>\n",
       "      <th>up_votes</th>\n",
       "      <th>down_votes</th>\n",
       "      <th>title</th>\n",
       "      <th>over_18</th>\n",
       "      <th>author</th>\n",
       "    </tr>\n",
       "  </thead>\n",
       "  <tbody>\n",
       "    <tr>\n",
       "      <th>0</th>\n",
       "      <td>1201232046</td>\n",
       "      <td>2008-01-25</td>\n",
       "      <td>3</td>\n",
       "      <td>0</td>\n",
       "      <td>Scores killed in Pakistan clashes</td>\n",
       "      <td>False</td>\n",
       "      <td>polar</td>\n",
       "    </tr>\n",
       "  </tbody>\n",
       "</table>\n",
       "</div>"
      ],
      "text/plain": [
       "   time_created date_created  up_votes  down_votes  \\\n",
       "0    1201232046   2008-01-25         3           0   \n",
       "\n",
       "                               title  over_18 author  \n",
       "0  Scores killed in Pakistan clashes    False  polar  "
      ]
     },
     "execution_count": 24,
     "metadata": {},
     "output_type": "execute_result"
    }
   ],
   "source": [
    "df.head(1)"
   ]
  },
  {
   "cell_type": "code",
   "execution_count": 25,
   "metadata": {},
   "outputs": [
    {
     "data": {
      "text/plain": [
       "RangeIndex(start=0, stop=509236, step=1)"
      ]
     },
     "execution_count": 25,
     "metadata": {},
     "output_type": "execute_result"
    }
   ],
   "source": [
    "df.index"
   ]
  },
  {
   "cell_type": "code",
   "execution_count": 26,
   "metadata": {},
   "outputs": [
    {
     "data": {
      "text/plain": [
       "range(0, 509236)"
      ]
     },
     "execution_count": 26,
     "metadata": {},
     "output_type": "execute_result"
    }
   ],
   "source": [
    "range(len(df.index))"
   ]
  },
  {
   "cell_type": "code",
   "execution_count": 27,
   "metadata": {},
   "outputs": [
    {
     "name": "stdout",
     "output_type": "stream",
     "text": [
      "509235\n"
     ]
    }
   ],
   "source": [
    "print((range(len(df.index)))[-1])"
   ]
  },
  {
   "cell_type": "code",
   "execution_count": 28,
   "metadata": {},
   "outputs": [
    {
     "data": {
      "text/html": [
       "<div>\n",
       "<style scoped>\n",
       "    .dataframe tbody tr th:only-of-type {\n",
       "        vertical-align: middle;\n",
       "    }\n",
       "\n",
       "    .dataframe tbody tr th {\n",
       "        vertical-align: top;\n",
       "    }\n",
       "\n",
       "    .dataframe thead th {\n",
       "        text-align: right;\n",
       "    }\n",
       "</style>\n",
       "<table border=\"1\" class=\"dataframe\">\n",
       "  <thead>\n",
       "    <tr style=\"text-align: right;\">\n",
       "      <th></th>\n",
       "      <th>time_created</th>\n",
       "      <th>date_created</th>\n",
       "      <th>up_votes</th>\n",
       "      <th>down_votes</th>\n",
       "      <th>title</th>\n",
       "      <th>over_18</th>\n",
       "      <th>author</th>\n",
       "    </tr>\n",
       "  </thead>\n",
       "  <tbody>\n",
       "    <tr>\n",
       "      <th>509235</th>\n",
       "      <td>1479817346</td>\n",
       "      <td>2016-11-22</td>\n",
       "      <td>1</td>\n",
       "      <td>0</td>\n",
       "      <td>Palestinian wielding knife shot dead in West B...</td>\n",
       "      <td>False</td>\n",
       "      <td>superislam</td>\n",
       "    </tr>\n",
       "  </tbody>\n",
       "</table>\n",
       "</div>"
      ],
      "text/plain": [
       "        time_created date_created  up_votes  down_votes  \\\n",
       "509235    1479817346   2016-11-22         1           0   \n",
       "\n",
       "                                                    title  over_18      author  \n",
       "509235  Palestinian wielding knife shot dead in West B...    False  superislam  "
      ]
     },
     "execution_count": 28,
     "metadata": {},
     "output_type": "execute_result"
    }
   ],
   "source": [
    "df.tail(1)"
   ]
  },
  {
   "cell_type": "markdown",
   "metadata": {},
   "source": [
    "---\n",
    "---"
   ]
  },
  {
   "cell_type": "code",
   "execution_count": 29,
   "metadata": {},
   "outputs": [],
   "source": [
    "# Creating columns of empty lists to hold NLP output\n",
    "\n",
    "df['noun_phrases'] = df.apply(lambda value: [], axis=1)\n",
    "df['verbs'] = df.apply(lambda value: [], axis=1)\n",
    "df['entities'] = df.apply(lambda value: [], axis=1)\n",
    "df['entity_labels'] = df.apply(lambda value: [], axis=1)"
   ]
  },
  {
   "cell_type": "markdown",
   "metadata": {},
   "source": [
    "**NOTE:** The `lambda` function above is necessary since I can't directly assign an empty list as a value to fill the new columns."
   ]
  },
  {
   "cell_type": "markdown",
   "metadata": {},
   "source": [
    "---\n",
    "---"
   ]
  },
  {
   "cell_type": "code",
   "execution_count": 30,
   "metadata": {},
   "outputs": [
    {
     "data": {
      "text/plain": [
       "time_created              int64\n",
       "date_created     datetime64[ns]\n",
       "up_votes                  int64\n",
       "down_votes                int64\n",
       "title                    object\n",
       "over_18                    bool\n",
       "author                   object\n",
       "noun_phrases             object\n",
       "verbs                    object\n",
       "entities                 object\n",
       "entity_labels            object\n",
       "dtype: object"
      ]
     },
     "execution_count": 30,
     "metadata": {},
     "output_type": "execute_result"
    }
   ],
   "source": [
    "df.dtypes"
   ]
  },
  {
   "cell_type": "code",
   "execution_count": 31,
   "metadata": {},
   "outputs": [],
   "source": [
    "# # Instantiating spacy NLP\n",
    "# nlp = spacy.load('en_core_web_sm')\n",
    "\n",
    "# # Defining a new function to segment post titles into component pieces and insert into original dataframe\n",
    "# def title_deconstruct(df):\n",
    "#     for i in range(len(df.index)):\n",
    "#         title = df['title'][i]\n",
    "#         doc = nlp(title)\n",
    "#         df['noun_chunks'][i] = [noun_chunk.text for noun_chunk in doc.noun_chunks]\n",
    "#         df['verbs'][i] = [verb.lemma_ for verb in doc if verb.pos_ == \"VERB\"]\n",
    "#         df['entities'][i] = [entity.text for entity in doc.ents]\n",
    "#         df['entity_labels'][i] = [entity.label_ for entity in doc.ents]\n",
    "#     return df"
   ]
  },
  {
   "cell_type": "code",
   "execution_count": 32,
   "metadata": {},
   "outputs": [],
   "source": [
    "# title_deconstruct(df)"
   ]
  },
  {
   "cell_type": "markdown",
   "metadata": {},
   "source": [
    "---"
   ]
  },
  {
   "cell_type": "code",
   "execution_count": 33,
   "metadata": {},
   "outputs": [],
   "source": [
    "# # Initializing a new, empty dataframe to hold nlp data\n",
    "# nlp_df = pd.DataFrame(data=None, index=range(len(df.index)), columns=['noun_chunks', 'verbs', 'entities', 'entity_labels'])"
   ]
  },
  {
   "cell_type": "code",
   "execution_count": 34,
   "metadata": {},
   "outputs": [],
   "source": [
    "# nlp_df.head(3)"
   ]
  },
  {
   "cell_type": "code",
   "execution_count": 35,
   "metadata": {},
   "outputs": [],
   "source": [
    "# # Instantiating spacy NLP\n",
    "# nlp = spacy.load('en_core_web_sm')\n",
    "\n",
    "# # Defining a new function to segment post titles into component pieces and insert into original dataframe\n",
    "# def title_deconstruct(df):\n",
    "#     for i in range(len(df)):\n",
    "#         title = df['title'][i]\n",
    "#         doc = nlp(title)\n",
    "#         nlp_df['noun_chunks'][i] = [noun_chunk.text for noun_chunk in doc.noun_chunks]\n",
    "#         nlp_df['verbs'][i] = [verb.lemma_ for verb in doc if verb.pos_ == \"VERB\"]\n",
    "#         nlp_df['entities'][i] = [entity.text for entity in doc.ents]\n",
    "#         nlp_df['entity_labels'][i] = [entity.label_ for entity in doc.ents]\n",
    "#     return nlp_df"
   ]
  },
  {
   "cell_type": "code",
   "execution_count": 36,
   "metadata": {},
   "outputs": [],
   "source": [
    "# nlp_df = title_deconstruct(df)"
   ]
  },
  {
   "cell_type": "code",
   "execution_count": 37,
   "metadata": {},
   "outputs": [],
   "source": [
    "# nlp_df"
   ]
  },
  {
   "cell_type": "code",
   "execution_count": 38,
   "metadata": {},
   "outputs": [],
   "source": [
    "# pd.concat([df, nlp_df], axis=1)"
   ]
  },
  {
   "cell_type": "code",
   "execution_count": null,
   "metadata": {},
   "outputs": [],
   "source": []
  },
  {
   "cell_type": "markdown",
   "metadata": {},
   "source": [
    "---"
   ]
  },
  {
   "cell_type": "code",
   "execution_count": 39,
   "metadata": {},
   "outputs": [],
   "source": [
    "# # Instantiating spacy NLP\n",
    "# nlp = spacy.load('en_core_web_sm')\n",
    "\n",
    "# # Defining a new function to segment post titles into component pieces and insert into original dataframe\n",
    "# def title_deconstruct(df):\n",
    "#     for i in range(10):\n",
    "#         title = df['title'][i]\n",
    "#         doc = nlp(title)\n",
    "#         nouns = [noun_chunk.text for noun_chunk in doc.noun_chunks]\n",
    "#         verbs = [verb.lemma_ for verb in doc if verb.pos_ == \"VERB\"]\n",
    "#         entities = [entity.text for entity in doc.ents]\n",
    "#         ent_labels = [entity.label_ for entity in doc.ents]\n",
    "#         df['noun_chunks'][i].append(nouns) \n",
    "#         df['verbs'][i].append(verbs) \n",
    "#         df['entities'][i].append(entities)\n",
    "#         df['entity_labels'][i].append(ent_labels)\n",
    "#     return df"
   ]
  },
  {
   "cell_type": "code",
   "execution_count": 40,
   "metadata": {},
   "outputs": [],
   "source": [
    "# title_deconstruct(df)"
   ]
  },
  {
   "cell_type": "code",
   "execution_count": 41,
   "metadata": {},
   "outputs": [],
   "source": [
    "# df.isnull().sum()"
   ]
  },
  {
   "cell_type": "code",
   "execution_count": null,
   "metadata": {},
   "outputs": [],
   "source": []
  },
  {
   "cell_type": "markdown",
   "metadata": {},
   "source": [
    "---\n",
    "---\n",
    "### This one works!\n",
    "\n",
    "**BELOW:** This seems to be the best iteration of the function, but is still computationally inefficient."
   ]
  },
  {
   "cell_type": "code",
   "execution_count": 42,
   "metadata": {},
   "outputs": [],
   "source": [
    "# Instantiating spacy NLP\n",
    "nlp = spacy.load('en_core_web_sm')\n",
    "\n",
    "# Defining a new function to segment post titles into component pieces and insert into original dataframe\n",
    "def title_deconstruct(df):\n",
    "    for i in range(len(df)):\n",
    "        title = df['title'][i]\n",
    "        doc = nlp(title)\n",
    "        df.at[i, 'noun_phrases'] = [noun_chunk.text for noun_chunk in doc.noun_chunks]\n",
    "        df.at[i, 'verbs'] = [verb.lemma_ for verb in doc if verb.pos_ == \"VERB\"]\n",
    "        df.at[i, 'entities'] = [entity.text for entity in doc.ents]\n",
    "        df.at[i, 'entity_labels'] = [entity.label_ for entity in doc.ents]\n",
    "    return df"
   ]
  },
  {
   "cell_type": "code",
   "execution_count": 43,
   "metadata": {},
   "outputs": [],
   "source": [
    "# df = title_deconstruct(df)"
   ]
  },
  {
   "cell_type": "code",
   "execution_count": 44,
   "metadata": {},
   "outputs": [
    {
     "data": {
      "text/html": [
       "<div>\n",
       "<style scoped>\n",
       "    .dataframe tbody tr th:only-of-type {\n",
       "        vertical-align: middle;\n",
       "    }\n",
       "\n",
       "    .dataframe tbody tr th {\n",
       "        vertical-align: top;\n",
       "    }\n",
       "\n",
       "    .dataframe thead th {\n",
       "        text-align: right;\n",
       "    }\n",
       "</style>\n",
       "<table border=\"1\" class=\"dataframe\">\n",
       "  <thead>\n",
       "    <tr style=\"text-align: right;\">\n",
       "      <th></th>\n",
       "      <th>time_created</th>\n",
       "      <th>date_created</th>\n",
       "      <th>up_votes</th>\n",
       "      <th>down_votes</th>\n",
       "      <th>title</th>\n",
       "      <th>over_18</th>\n",
       "      <th>author</th>\n",
       "      <th>noun_phrases</th>\n",
       "      <th>verbs</th>\n",
       "      <th>entities</th>\n",
       "      <th>entity_labels</th>\n",
       "    </tr>\n",
       "  </thead>\n",
       "  <tbody>\n",
       "    <tr>\n",
       "      <th>0</th>\n",
       "      <td>1201232046</td>\n",
       "      <td>2008-01-25</td>\n",
       "      <td>3</td>\n",
       "      <td>0</td>\n",
       "      <td>Scores killed in Pakistan clashes</td>\n",
       "      <td>False</td>\n",
       "      <td>polar</td>\n",
       "      <td>[Scores, Pakistan clashes]</td>\n",
       "      <td>[kill]</td>\n",
       "      <td>[Pakistan]</td>\n",
       "      <td>[GPE]</td>\n",
       "    </tr>\n",
       "    <tr>\n",
       "      <th>1</th>\n",
       "      <td>1201232075</td>\n",
       "      <td>2008-01-25</td>\n",
       "      <td>2</td>\n",
       "      <td>0</td>\n",
       "      <td>Japan resumes refuelling mission</td>\n",
       "      <td>False</td>\n",
       "      <td>polar</td>\n",
       "      <td>[Japan, refuelling mission]</td>\n",
       "      <td>[resume]</td>\n",
       "      <td>[Japan]</td>\n",
       "      <td>[GPE]</td>\n",
       "    </tr>\n",
       "    <tr>\n",
       "      <th>2</th>\n",
       "      <td>1201232523</td>\n",
       "      <td>2008-01-25</td>\n",
       "      <td>3</td>\n",
       "      <td>0</td>\n",
       "      <td>US presses Egypt on Gaza border</td>\n",
       "      <td>False</td>\n",
       "      <td>polar</td>\n",
       "      <td>[US, Egypt, Gaza border]</td>\n",
       "      <td>[press]</td>\n",
       "      <td>[US, Egypt, Gaza]</td>\n",
       "      <td>[GPE, GPE, GPE]</td>\n",
       "    </tr>\n",
       "  </tbody>\n",
       "</table>\n",
       "</div>"
      ],
      "text/plain": [
       "   time_created date_created  up_votes  down_votes  \\\n",
       "0    1201232046   2008-01-25         3           0   \n",
       "1    1201232075   2008-01-25         2           0   \n",
       "2    1201232523   2008-01-25         3           0   \n",
       "\n",
       "                               title  over_18 author  \\\n",
       "0  Scores killed in Pakistan clashes    False  polar   \n",
       "1   Japan resumes refuelling mission    False  polar   \n",
       "2    US presses Egypt on Gaza border    False  polar   \n",
       "\n",
       "                  noun_phrases     verbs           entities    entity_labels  \n",
       "0   [Scores, Pakistan clashes]    [kill]         [Pakistan]            [GPE]  \n",
       "1  [Japan, refuelling mission]  [resume]            [Japan]            [GPE]  \n",
       "2     [US, Egypt, Gaza border]   [press]  [US, Egypt, Gaza]  [GPE, GPE, GPE]  "
      ]
     },
     "execution_count": 44,
     "metadata": {},
     "output_type": "execute_result"
    }
   ],
   "source": [
    "# df.head(3)"
   ]
  },
  {
   "cell_type": "code",
   "execution_count": null,
   "metadata": {},
   "outputs": [],
   "source": []
  },
  {
   "cell_type": "markdown",
   "metadata": {},
   "source": [
    "---\n",
    "#### Sentiment Analysis\n",
    "\n",
    "**Compound Polarity Score:** The Compound Polarity Score generated by the `SentimentIntensityAnalyzer` is a rough judge of positivity and negativity in a text token, ranging from $-1$ (very negative) to $+1$ (very positive). The mean polarity score I see above of 0.488 implies that the Audio Engineering Subreddit's contributors tend to skew positive with the content they share!"
   ]
  },
  {
   "cell_type": "code",
   "execution_count": 45,
   "metadata": {},
   "outputs": [],
   "source": [
    "# titles = df['title'].tolist()"
   ]
  },
  {
   "cell_type": "code",
   "execution_count": 46,
   "metadata": {},
   "outputs": [],
   "source": [
    "# New column to hold the sentiment analysis results - can assign Null for now since data will be floats\n",
    "df['compound_sentiment'] = np.NaN\n",
    "\n",
    "# Verb sentiments will be stored a list of floats\n",
    "df['verb_sentiment'] = df.apply(lambda value: [], axis=1)"
   ]
  },
  {
   "cell_type": "code",
   "execution_count": null,
   "metadata": {},
   "outputs": [],
   "source": []
  },
  {
   "cell_type": "code",
   "execution_count": 47,
   "metadata": {},
   "outputs": [],
   "source": [
    "# Defining a function to analyze sentiment of each title based on the VADER lexicon\n",
    "def sent_analysis(df):\n",
    "    # Instantiating a Sentiment Intensity Analyzer\n",
    "    sent = SentimentIntensityAnalyzer()\n",
    "    \n",
    "    for i in range(len(df)):\n",
    "        title = df['title'][i]\n",
    "        title_sentiment = sent.polarity_scores(title)\n",
    "        df.at[i, 'compound_sentiment'] = round(title_sentiment['compound'], 2)\n",
    "        \n",
    "#         verb_sents = []\n",
    "#         for v in df['verbs'][i]:\n",
    "#             verb_sentiment = sent.polarity_scores(v)\n",
    "#             verb_sents.append(round(verb_sentiment['compound'], 2))\n",
    "            \n",
    "#         df.at[i, 'verb_sentiment'] = verb_sents\n",
    "    \n",
    "    return df\n"
   ]
  },
  {
   "cell_type": "code",
   "execution_count": 48,
   "metadata": {},
   "outputs": [],
   "source": [
    "# df = sent_analysis(df)"
   ]
  },
  {
   "cell_type": "code",
   "execution_count": 50,
   "metadata": {},
   "outputs": [],
   "source": [
    "# df"
   ]
  },
  {
   "cell_type": "code",
   "execution_count": null,
   "metadata": {},
   "outputs": [],
   "source": []
  },
  {
   "cell_type": "code",
   "execution_count": 59,
   "metadata": {},
   "outputs": [],
   "source": [
    "verb_test = 'make, run, smile, pass'\n",
    "vt_sent = sent.polarity_scores(verb_test)"
   ]
  },
  {
   "cell_type": "code",
   "execution_count": 60,
   "metadata": {},
   "outputs": [
    {
     "data": {
      "text/plain": [
       "{'neg': 0.0, 'neu': 0.545, 'pos': 0.455, 'compound': 0.3612}"
      ]
     },
     "execution_count": 60,
     "metadata": {},
     "output_type": "execute_result"
    }
   ],
   "source": [
    "vt_sent"
   ]
  },
  {
   "cell_type": "code",
   "execution_count": 77,
   "metadata": {},
   "outputs": [],
   "source": [
    "verb_test2 = ['make', 'run', 'smile', 'pass', 'happy']\n",
    "vt_sent2 = sent.polarity_scores(verb_test2[1])"
   ]
  },
  {
   "cell_type": "code",
   "execution_count": 78,
   "metadata": {},
   "outputs": [
    {
     "data": {
      "text/plain": [
       "{'neg': 0.0, 'neu': 1.0, 'pos': 0.0, 'compound': 0.0}"
      ]
     },
     "execution_count": 78,
     "metadata": {},
     "output_type": "execute_result"
    }
   ],
   "source": [
    "vt_sent2"
   ]
  },
  {
   "cell_type": "code",
   "execution_count": 75,
   "metadata": {},
   "outputs": [
    {
     "data": {
      "text/plain": [
       "'smile'"
      ]
     },
     "execution_count": 75,
     "metadata": {},
     "output_type": "execute_result"
    }
   ],
   "source": [
    "verb_test2[2]"
   ]
  },
  {
   "cell_type": "code",
   "execution_count": null,
   "metadata": {},
   "outputs": [],
   "source": []
  },
  {
   "cell_type": "markdown",
   "metadata": {},
   "source": [
    "---"
   ]
  },
  {
   "cell_type": "markdown",
   "metadata": {},
   "source": [
    "### TEST\n",
    "\n",
    "Combining it all into a single function"
   ]
  },
  {
   "cell_type": "code",
   "execution_count": 45,
   "metadata": {},
   "outputs": [],
   "source": [
    "# Reading in data\n",
    "df = pd.read_csv('../data/world_news_posts.csv')"
   ]
  },
  {
   "cell_type": "code",
   "execution_count": 46,
   "metadata": {},
   "outputs": [
    {
     "data": {
      "text/html": [
       "<div>\n",
       "<style scoped>\n",
       "    .dataframe tbody tr th:only-of-type {\n",
       "        vertical-align: middle;\n",
       "    }\n",
       "\n",
       "    .dataframe tbody tr th {\n",
       "        vertical-align: top;\n",
       "    }\n",
       "\n",
       "    .dataframe thead th {\n",
       "        text-align: right;\n",
       "    }\n",
       "</style>\n",
       "<table border=\"1\" class=\"dataframe\">\n",
       "  <thead>\n",
       "    <tr style=\"text-align: right;\">\n",
       "      <th></th>\n",
       "      <th>time_created</th>\n",
       "      <th>date_created</th>\n",
       "      <th>up_votes</th>\n",
       "      <th>down_votes</th>\n",
       "      <th>title</th>\n",
       "      <th>over_18</th>\n",
       "      <th>author</th>\n",
       "      <th>category</th>\n",
       "    </tr>\n",
       "  </thead>\n",
       "  <tbody>\n",
       "    <tr>\n",
       "      <th>0</th>\n",
       "      <td>1201232046</td>\n",
       "      <td>2008-01-25</td>\n",
       "      <td>3</td>\n",
       "      <td>0</td>\n",
       "      <td>Scores killed in Pakistan clashes</td>\n",
       "      <td>False</td>\n",
       "      <td>polar</td>\n",
       "      <td>worldnews</td>\n",
       "    </tr>\n",
       "    <tr>\n",
       "      <th>1</th>\n",
       "      <td>1201232075</td>\n",
       "      <td>2008-01-25</td>\n",
       "      <td>2</td>\n",
       "      <td>0</td>\n",
       "      <td>Japan resumes refuelling mission</td>\n",
       "      <td>False</td>\n",
       "      <td>polar</td>\n",
       "      <td>worldnews</td>\n",
       "    </tr>\n",
       "    <tr>\n",
       "      <th>2</th>\n",
       "      <td>1201232523</td>\n",
       "      <td>2008-01-25</td>\n",
       "      <td>3</td>\n",
       "      <td>0</td>\n",
       "      <td>US presses Egypt on Gaza border</td>\n",
       "      <td>False</td>\n",
       "      <td>polar</td>\n",
       "      <td>worldnews</td>\n",
       "    </tr>\n",
       "  </tbody>\n",
       "</table>\n",
       "</div>"
      ],
      "text/plain": [
       "   time_created date_created  up_votes  down_votes  \\\n",
       "0    1201232046   2008-01-25         3           0   \n",
       "1    1201232075   2008-01-25         2           0   \n",
       "2    1201232523   2008-01-25         3           0   \n",
       "\n",
       "                               title  over_18 author   category  \n",
       "0  Scores killed in Pakistan clashes    False  polar  worldnews  \n",
       "1   Japan resumes refuelling mission    False  polar  worldnews  \n",
       "2    US presses Egypt on Gaza border    False  polar  worldnews  "
      ]
     },
     "execution_count": 46,
     "metadata": {},
     "output_type": "execute_result"
    }
   ],
   "source": [
    "df.head(3)"
   ]
  },
  {
   "cell_type": "code",
   "execution_count": 47,
   "metadata": {},
   "outputs": [
    {
     "name": "stdout",
     "output_type": "stream",
     "text": [
      "<class 'pandas.core.frame.DataFrame'>\n",
      "RangeIndex: 509236 entries, 0 to 509235\n",
      "Data columns (total 8 columns):\n",
      " #   Column        Non-Null Count   Dtype \n",
      "---  ------        --------------   ----- \n",
      " 0   time_created  509236 non-null  int64 \n",
      " 1   date_created  509236 non-null  object\n",
      " 2   up_votes      509236 non-null  int64 \n",
      " 3   down_votes    509236 non-null  int64 \n",
      " 4   title         509236 non-null  object\n",
      " 5   over_18       509236 non-null  bool  \n",
      " 6   author        509236 non-null  object\n",
      " 7   category      509236 non-null  object\n",
      "dtypes: bool(1), int64(3), object(4)\n",
      "memory usage: 27.7+ MB\n"
     ]
    }
   ],
   "source": [
    "df.info()"
   ]
  },
  {
   "cell_type": "markdown",
   "metadata": {},
   "source": [
    "**BELOW:** The `process_data` function defined here will generate and populate the existing dataframe with a number of new features, as well as drop unnecessary features.\n",
    "\n",
    "**TO DO:**\n",
    "* Fix the upvotes by author feature\n",
    "* Thoroughly verify data integrity\n",
    "* Make sure the code is clear and flexible, eg, add loops to account for nulls in source data\n",
    "* Is there a way to make it more efficient?"
   ]
  },
  {
   "cell_type": "code",
   "execution_count": null,
   "metadata": {},
   "outputs": [],
   "source": []
  },
  {
   "cell_type": "code",
   "execution_count": 49,
   "metadata": {},
   "outputs": [],
   "source": [
    "# Defining a function to concisely process this dataframe and others in the same format\n",
    "def process_data(df):\n",
    "    \n",
    "    # Redefining the 'time_created' column to hold datetime, converted from unix timestamp format\n",
    "    df['time_created'] = [datetime.fromtimestamp(ts) for ts in df['time_created']]\n",
    "    # Dropping 'date_created' because of redundancy\n",
    "    df.drop(columns='date_created', inplace=True)\n",
    "    \n",
    "    # Dropping 'category' feature if only one category is present\n",
    "    if len(df['category'].unique()) == 1:\n",
    "        df.drop(columns='category', inplace=True)\n",
    "    # Similarly dropping down votes if there are none reported\n",
    "    if sum(df['down_votes']) == 0:\n",
    "        df.drop(columns='down_votes', inplace=True)\n",
    "  \n",
    "\n",
    "    # -----------\n",
    "    # Creating columns of empty lists to hold NLP output\n",
    "    df['noun_phrases'] = df.apply(lambda value: [], axis=1)\n",
    "    df['verbs'] = df.apply(lambda value: [], axis=1)\n",
    "    df['entities'] = df.apply(lambda value: [], axis=1)\n",
    "    df['entity_labels'] = df.apply(lambda value: [], axis=1)\n",
    "    # New column to hold the sentiment analysis results - can assign Null for now since data will be floats\n",
    "    df['compound_sentiment'] = np.NaN\n",
    "    \n",
    "    # Instantiating spacy NLP\n",
    "    nlp = spacy.load('en_core_web_sm')\n",
    "    \n",
    "    # Instantiating Sentiment Intensity Analyzer\n",
    "    sent = SentimentIntensityAnalyzer()\n",
    "\n",
    "    # Incorporating the loop from 'title_deconstruct' function to segment post titles into component pieces and insert into original dataframe\n",
    "    for i in range(len(df)):\n",
    "        title = df['title'][i]\n",
    "        doc = nlp(title)\n",
    "        df.at[i, 'noun_phrases'] = [noun_chunk.text for noun_chunk in doc.noun_chunks]\n",
    "        df.at[i, 'verbs'] = [verb.lemma_ for verb in doc if verb.pos_ == \"VERB\"]\n",
    "        df.at[i, 'entities'] = [entity.text for entity in doc.ents]\n",
    "        df.at[i, 'entity_labels'] = [entity.label_ for entity in doc.ents]\n",
    "        \n",
    "        # Sentiment analysis\n",
    "        title_sentiment = sent.polarity_scores(title)\n",
    "        df.at[i, 'compound_sentiment'] = round(title_sentiment['compound'], 2)\n",
    "    # -----------    \n",
    "    \n",
    "    \n",
    "    # Binarizing 'over_18' feature\n",
    "    df['over_18'] = df['over_18'].map({False:0, True:1})\n",
    "    \n",
    "    # Creating a feature to hold the post length in characters and words\n",
    "    df['post_length_chars'] = df['title'].apply(len)\n",
    "    df['post_length_tokens'] = df['title'].str.split().apply(len)\n",
    "    \n",
    "    # Generating features to hold total author posts and total author upvotes alongside each post\n",
    "    df['author_posts'] = df['author'].groupby(df['author']).transform('count')\n",
    "    df['author_upvotes'] = df['up_votes'].groupby(df['author']).transform('sum')\n",
    "    \n",
    "    # Generating a feature to hold day of the week and dummifying\n",
    "    df['weekday'] = df['time_created'].dt.day_name()\n",
    "    day_dummies = pd.get_dummies(df['weekday'], drop_first=True)\n",
    "    df = pd.concat([df, day_dummies], axis=1)\n",
    "    df.drop(columns='weekday', inplace=True)\n",
    "    \n",
    "    return df"
   ]
  },
  {
   "cell_type": "code",
   "execution_count": 31,
   "metadata": {},
   "outputs": [],
   "source": [
    "df = process_data(df)"
   ]
  },
  {
   "cell_type": "code",
   "execution_count": 32,
   "metadata": {},
   "outputs": [
    {
     "data": {
      "text/html": [
       "<div>\n",
       "<style scoped>\n",
       "    .dataframe tbody tr th:only-of-type {\n",
       "        vertical-align: middle;\n",
       "    }\n",
       "\n",
       "    .dataframe tbody tr th {\n",
       "        vertical-align: top;\n",
       "    }\n",
       "\n",
       "    .dataframe thead th {\n",
       "        text-align: right;\n",
       "    }\n",
       "</style>\n",
       "<table border=\"1\" class=\"dataframe\">\n",
       "  <thead>\n",
       "    <tr style=\"text-align: right;\">\n",
       "      <th></th>\n",
       "      <th>time_created</th>\n",
       "      <th>up_votes</th>\n",
       "      <th>title</th>\n",
       "      <th>over_18</th>\n",
       "      <th>author</th>\n",
       "      <th>noun_phrases</th>\n",
       "      <th>verbs</th>\n",
       "      <th>entities</th>\n",
       "      <th>entity_labels</th>\n",
       "      <th>post_length_chars</th>\n",
       "      <th>post_length_tokens</th>\n",
       "      <th>author_posts</th>\n",
       "      <th>Monday</th>\n",
       "      <th>Saturday</th>\n",
       "      <th>Sunday</th>\n",
       "      <th>Thursday</th>\n",
       "      <th>Tuesday</th>\n",
       "      <th>Wednesday</th>\n",
       "    </tr>\n",
       "  </thead>\n",
       "  <tbody>\n",
       "    <tr>\n",
       "      <th>0</th>\n",
       "      <td>2008-01-24 22:34:06</td>\n",
       "      <td>3</td>\n",
       "      <td>Scores killed in Pakistan clashes</td>\n",
       "      <td>0</td>\n",
       "      <td>polar</td>\n",
       "      <td>[Scores, Pakistan clashes]</td>\n",
       "      <td>[kill]</td>\n",
       "      <td>[Pakistan]</td>\n",
       "      <td>[GPE]</td>\n",
       "      <td>33</td>\n",
       "      <td>5</td>\n",
       "      <td>50</td>\n",
       "      <td>0</td>\n",
       "      <td>0</td>\n",
       "      <td>0</td>\n",
       "      <td>1</td>\n",
       "      <td>0</td>\n",
       "      <td>0</td>\n",
       "    </tr>\n",
       "    <tr>\n",
       "      <th>1</th>\n",
       "      <td>2008-01-24 22:34:35</td>\n",
       "      <td>2</td>\n",
       "      <td>Japan resumes refuelling mission</td>\n",
       "      <td>0</td>\n",
       "      <td>polar</td>\n",
       "      <td>[Japan, refuelling mission]</td>\n",
       "      <td>[resume]</td>\n",
       "      <td>[Japan]</td>\n",
       "      <td>[GPE]</td>\n",
       "      <td>32</td>\n",
       "      <td>4</td>\n",
       "      <td>50</td>\n",
       "      <td>0</td>\n",
       "      <td>0</td>\n",
       "      <td>0</td>\n",
       "      <td>1</td>\n",
       "      <td>0</td>\n",
       "      <td>0</td>\n",
       "    </tr>\n",
       "    <tr>\n",
       "      <th>2</th>\n",
       "      <td>2008-01-24 22:42:03</td>\n",
       "      <td>3</td>\n",
       "      <td>US presses Egypt on Gaza border</td>\n",
       "      <td>0</td>\n",
       "      <td>polar</td>\n",
       "      <td>[US, Egypt, Gaza border]</td>\n",
       "      <td>[press]</td>\n",
       "      <td>[US, Egypt, Gaza]</td>\n",
       "      <td>[GPE, GPE, GPE]</td>\n",
       "      <td>31</td>\n",
       "      <td>6</td>\n",
       "      <td>50</td>\n",
       "      <td>0</td>\n",
       "      <td>0</td>\n",
       "      <td>0</td>\n",
       "      <td>1</td>\n",
       "      <td>0</td>\n",
       "      <td>0</td>\n",
       "    </tr>\n",
       "    <tr>\n",
       "      <th>3</th>\n",
       "      <td>2008-01-24 22:54:50</td>\n",
       "      <td>1</td>\n",
       "      <td>Jump-start economy: Give health care to all</td>\n",
       "      <td>0</td>\n",
       "      <td>fadi420</td>\n",
       "      <td>[Jump-start economy, health care]</td>\n",
       "      <td>[give]</td>\n",
       "      <td>[]</td>\n",
       "      <td>[]</td>\n",
       "      <td>44</td>\n",
       "      <td>7</td>\n",
       "      <td>2</td>\n",
       "      <td>0</td>\n",
       "      <td>0</td>\n",
       "      <td>0</td>\n",
       "      <td>1</td>\n",
       "      <td>0</td>\n",
       "      <td>0</td>\n",
       "    </tr>\n",
       "    <tr>\n",
       "      <th>4</th>\n",
       "      <td>2008-01-25 10:25:20</td>\n",
       "      <td>4</td>\n",
       "      <td>Council of Europe bashes EU&amp;UN terror blacklist</td>\n",
       "      <td>0</td>\n",
       "      <td>mhermans</td>\n",
       "      <td>[Council, Europe, EU&amp;UN]</td>\n",
       "      <td>[bash]</td>\n",
       "      <td>[Council of Europe, EU&amp;UN]</td>\n",
       "      <td>[ORG, ORG]</td>\n",
       "      <td>47</td>\n",
       "      <td>7</td>\n",
       "      <td>1</td>\n",
       "      <td>0</td>\n",
       "      <td>0</td>\n",
       "      <td>0</td>\n",
       "      <td>0</td>\n",
       "      <td>0</td>\n",
       "      <td>0</td>\n",
       "    </tr>\n",
       "    <tr>\n",
       "      <th>...</th>\n",
       "      <td>...</td>\n",
       "      <td>...</td>\n",
       "      <td>...</td>\n",
       "      <td>...</td>\n",
       "      <td>...</td>\n",
       "      <td>...</td>\n",
       "      <td>...</td>\n",
       "      <td>...</td>\n",
       "      <td>...</td>\n",
       "      <td>...</td>\n",
       "      <td>...</td>\n",
       "      <td>...</td>\n",
       "      <td>...</td>\n",
       "      <td>...</td>\n",
       "      <td>...</td>\n",
       "      <td>...</td>\n",
       "      <td>...</td>\n",
       "      <td>...</td>\n",
       "    </tr>\n",
       "    <tr>\n",
       "      <th>509231</th>\n",
       "      <td>2016-11-22 07:12:44</td>\n",
       "      <td>5</td>\n",
       "      <td>Heil Trump : Donald Trump s  alt-right  white...</td>\n",
       "      <td>0</td>\n",
       "      <td>nonamenoglory</td>\n",
       "      <td>[ Heil Trump, Donald Trump, alt-right  white n...</td>\n",
       "      <td>[s, invoke]</td>\n",
       "      <td>[Heil Trump, Donald Trump, Nazi]</td>\n",
       "      <td>[PERSON, PERSON, NORP]</td>\n",
       "      <td>88</td>\n",
       "      <td>13</td>\n",
       "      <td>5</td>\n",
       "      <td>0</td>\n",
       "      <td>0</td>\n",
       "      <td>0</td>\n",
       "      <td>0</td>\n",
       "      <td>1</td>\n",
       "      <td>0</td>\n",
       "    </tr>\n",
       "    <tr>\n",
       "      <th>509232</th>\n",
       "      <td>2016-11-22 07:12:52</td>\n",
       "      <td>1</td>\n",
       "      <td>There are people speculating that this could b...</td>\n",
       "      <td>0</td>\n",
       "      <td>SummerRay</td>\n",
       "      <td>[people, Madeleine McCann]</td>\n",
       "      <td>[speculate, be]</td>\n",
       "      <td>[Madeleine McCann]</td>\n",
       "      <td>[PERSON]</td>\n",
       "      <td>67</td>\n",
       "      <td>10</td>\n",
       "      <td>1</td>\n",
       "      <td>0</td>\n",
       "      <td>0</td>\n",
       "      <td>0</td>\n",
       "      <td>0</td>\n",
       "      <td>1</td>\n",
       "      <td>0</td>\n",
       "    </tr>\n",
       "    <tr>\n",
       "      <th>509233</th>\n",
       "      <td>2016-11-22 07:17:36</td>\n",
       "      <td>1</td>\n",
       "      <td>Professor receives Arab Researchers Award</td>\n",
       "      <td>0</td>\n",
       "      <td>AUSharjah</td>\n",
       "      <td>[Professor, Arab Researchers Award]</td>\n",
       "      <td>[receive]</td>\n",
       "      <td>[Arab]</td>\n",
       "      <td>[NORP]</td>\n",
       "      <td>41</td>\n",
       "      <td>5</td>\n",
       "      <td>3</td>\n",
       "      <td>0</td>\n",
       "      <td>0</td>\n",
       "      <td>0</td>\n",
       "      <td>0</td>\n",
       "      <td>1</td>\n",
       "      <td>0</td>\n",
       "    </tr>\n",
       "    <tr>\n",
       "      <th>509234</th>\n",
       "      <td>2016-11-22 07:19:17</td>\n",
       "      <td>1</td>\n",
       "      <td>Nigel Farage attacks response to Trump ambassa...</td>\n",
       "      <td>0</td>\n",
       "      <td>smilyflower</td>\n",
       "      <td>[Nigel Farage, response, Trump ambassador tweet]</td>\n",
       "      <td>[attack]</td>\n",
       "      <td>[Nigel Farage, Trump]</td>\n",
       "      <td>[PERSON, ORG]</td>\n",
       "      <td>55</td>\n",
       "      <td>8</td>\n",
       "      <td>52</td>\n",
       "      <td>0</td>\n",
       "      <td>0</td>\n",
       "      <td>0</td>\n",
       "      <td>0</td>\n",
       "      <td>1</td>\n",
       "      <td>0</td>\n",
       "    </tr>\n",
       "    <tr>\n",
       "      <th>509235</th>\n",
       "      <td>2016-11-22 07:22:26</td>\n",
       "      <td>1</td>\n",
       "      <td>Palestinian wielding knife shot dead in West B...</td>\n",
       "      <td>0</td>\n",
       "      <td>superislam</td>\n",
       "      <td>[Palestinian wielding knife, West Bank, Israel...</td>\n",
       "      <td>[shoot]</td>\n",
       "      <td>[Palestinian, West Bank, Israel]</td>\n",
       "      <td>[NORP, GPE, GPE]</td>\n",
       "      <td>64</td>\n",
       "      <td>10</td>\n",
       "      <td>177</td>\n",
       "      <td>0</td>\n",
       "      <td>0</td>\n",
       "      <td>0</td>\n",
       "      <td>0</td>\n",
       "      <td>1</td>\n",
       "      <td>0</td>\n",
       "    </tr>\n",
       "  </tbody>\n",
       "</table>\n",
       "<p>509236 rows × 18 columns</p>\n",
       "</div>"
      ],
      "text/plain": [
       "              time_created  up_votes  \\\n",
       "0      2008-01-24 22:34:06         3   \n",
       "1      2008-01-24 22:34:35         2   \n",
       "2      2008-01-24 22:42:03         3   \n",
       "3      2008-01-24 22:54:50         1   \n",
       "4      2008-01-25 10:25:20         4   \n",
       "...                    ...       ...   \n",
       "509231 2016-11-22 07:12:44         5   \n",
       "509232 2016-11-22 07:12:52         1   \n",
       "509233 2016-11-22 07:17:36         1   \n",
       "509234 2016-11-22 07:19:17         1   \n",
       "509235 2016-11-22 07:22:26         1   \n",
       "\n",
       "                                                    title  over_18  \\\n",
       "0                       Scores killed in Pakistan clashes        0   \n",
       "1                        Japan resumes refuelling mission        0   \n",
       "2                         US presses Egypt on Gaza border        0   \n",
       "3            Jump-start economy: Give health care to all         0   \n",
       "4         Council of Europe bashes EU&UN terror blacklist        0   \n",
       "...                                                   ...      ...   \n",
       "509231   Heil Trump : Donald Trump s  alt-right  white...        0   \n",
       "509232  There are people speculating that this could b...        0   \n",
       "509233          Professor receives Arab Researchers Award        0   \n",
       "509234  Nigel Farage attacks response to Trump ambassa...        0   \n",
       "509235  Palestinian wielding knife shot dead in West B...        0   \n",
       "\n",
       "               author                                       noun_phrases  \\\n",
       "0               polar                         [Scores, Pakistan clashes]   \n",
       "1               polar                        [Japan, refuelling mission]   \n",
       "2               polar                           [US, Egypt, Gaza border]   \n",
       "3             fadi420                  [Jump-start economy, health care]   \n",
       "4            mhermans                           [Council, Europe, EU&UN]   \n",
       "...               ...                                                ...   \n",
       "509231  nonamenoglory  [ Heil Trump, Donald Trump, alt-right  white n...   \n",
       "509232      SummerRay                         [people, Madeleine McCann]   \n",
       "509233      AUSharjah                [Professor, Arab Researchers Award]   \n",
       "509234    smilyflower   [Nigel Farage, response, Trump ambassador tweet]   \n",
       "509235     superislam  [Palestinian wielding knife, West Bank, Israel...   \n",
       "\n",
       "                  verbs                          entities  \\\n",
       "0                [kill]                        [Pakistan]   \n",
       "1              [resume]                           [Japan]   \n",
       "2               [press]                 [US, Egypt, Gaza]   \n",
       "3                [give]                                []   \n",
       "4                [bash]        [Council of Europe, EU&UN]   \n",
       "...                 ...                               ...   \n",
       "509231      [s, invoke]  [Heil Trump, Donald Trump, Nazi]   \n",
       "509232  [speculate, be]                [Madeleine McCann]   \n",
       "509233        [receive]                            [Arab]   \n",
       "509234         [attack]             [Nigel Farage, Trump]   \n",
       "509235          [shoot]  [Palestinian, West Bank, Israel]   \n",
       "\n",
       "                 entity_labels  post_length_chars  post_length_tokens  \\\n",
       "0                        [GPE]                 33                   5   \n",
       "1                        [GPE]                 32                   4   \n",
       "2              [GPE, GPE, GPE]                 31                   6   \n",
       "3                           []                 44                   7   \n",
       "4                   [ORG, ORG]                 47                   7   \n",
       "...                        ...                ...                 ...   \n",
       "509231  [PERSON, PERSON, NORP]                 88                  13   \n",
       "509232                [PERSON]                 67                  10   \n",
       "509233                  [NORP]                 41                   5   \n",
       "509234           [PERSON, ORG]                 55                   8   \n",
       "509235        [NORP, GPE, GPE]                 64                  10   \n",
       "\n",
       "        author_posts  Monday  Saturday  Sunday  Thursday  Tuesday  Wednesday  \n",
       "0                 50       0         0       0         1        0          0  \n",
       "1                 50       0         0       0         1        0          0  \n",
       "2                 50       0         0       0         1        0          0  \n",
       "3                  2       0         0       0         1        0          0  \n",
       "4                  1       0         0       0         0        0          0  \n",
       "...              ...     ...       ...     ...       ...      ...        ...  \n",
       "509231             5       0         0       0         0        1          0  \n",
       "509232             1       0         0       0         0        1          0  \n",
       "509233             3       0         0       0         0        1          0  \n",
       "509234            52       0         0       0         0        1          0  \n",
       "509235           177       0         0       0         0        1          0  \n",
       "\n",
       "[509236 rows x 18 columns]"
      ]
     },
     "execution_count": 32,
     "metadata": {},
     "output_type": "execute_result"
    }
   ],
   "source": [
    "df"
   ]
  },
  {
   "cell_type": "code",
   "execution_count": 33,
   "metadata": {},
   "outputs": [
    {
     "data": {
      "text/plain": [
       "time_created          0\n",
       "up_votes              0\n",
       "title                 0\n",
       "over_18               0\n",
       "author                0\n",
       "noun_phrases          0\n",
       "verbs                 0\n",
       "entities              0\n",
       "entity_labels         0\n",
       "post_length_chars     0\n",
       "post_length_tokens    0\n",
       "author_posts          0\n",
       "Monday                0\n",
       "Saturday              0\n",
       "Sunday                0\n",
       "Thursday              0\n",
       "Tuesday               0\n",
       "Wednesday             0\n",
       "dtype: int64"
      ]
     },
     "execution_count": 33,
     "metadata": {},
     "output_type": "execute_result"
    }
   ],
   "source": [
    "df.isnull().sum()"
   ]
  },
  {
   "cell_type": "code",
   "execution_count": 34,
   "metadata": {},
   "outputs": [
    {
     "name": "stdout",
     "output_type": "stream",
     "text": [
      "<class 'pandas.core.frame.DataFrame'>\n",
      "RangeIndex: 509236 entries, 0 to 509235\n",
      "Data columns (total 18 columns):\n",
      " #   Column              Non-Null Count   Dtype         \n",
      "---  ------              --------------   -----         \n",
      " 0   time_created        509236 non-null  datetime64[ns]\n",
      " 1   up_votes            509236 non-null  int64         \n",
      " 2   title               509236 non-null  object        \n",
      " 3   over_18             509236 non-null  int64         \n",
      " 4   author              509236 non-null  object        \n",
      " 5   noun_phrases        509236 non-null  object        \n",
      " 6   verbs               509236 non-null  object        \n",
      " 7   entities            509236 non-null  object        \n",
      " 8   entity_labels       509236 non-null  object        \n",
      " 9   post_length_chars   509236 non-null  int64         \n",
      " 10  post_length_tokens  509236 non-null  int64         \n",
      " 11  author_posts        509236 non-null  int64         \n",
      " 12  Monday              509236 non-null  uint8         \n",
      " 13  Saturday            509236 non-null  uint8         \n",
      " 14  Sunday              509236 non-null  uint8         \n",
      " 15  Thursday            509236 non-null  uint8         \n",
      " 16  Tuesday             509236 non-null  uint8         \n",
      " 17  Wednesday           509236 non-null  uint8         \n",
      "dtypes: datetime64[ns](1), int64(5), object(6), uint8(6)\n",
      "memory usage: 49.5+ MB\n"
     ]
    }
   ],
   "source": [
    "df.info()"
   ]
  },
  {
   "cell_type": "code",
   "execution_count": 35,
   "metadata": {},
   "outputs": [
    {
     "data": {
      "text/plain": [
       "Index(['time_created', 'up_votes', 'title', 'over_18', 'author',\n",
       "       'noun_phrases', 'verbs', 'entities', 'entity_labels',\n",
       "       'post_length_chars', 'post_length_tokens', 'author_posts', 'Monday',\n",
       "       'Saturday', 'Sunday', 'Thursday', 'Tuesday', 'Wednesday'],\n",
       "      dtype='object')"
      ]
     },
     "execution_count": 35,
     "metadata": {},
     "output_type": "execute_result"
    }
   ],
   "source": [
    "df.columns"
   ]
  },
  {
   "cell_type": "code",
   "execution_count": null,
   "metadata": {},
   "outputs": [],
   "source": []
  },
  {
   "cell_type": "code",
   "execution_count": null,
   "metadata": {},
   "outputs": [],
   "source": []
  }
 ],
 "metadata": {
  "kernelspec": {
   "display_name": "Python 3",
   "language": "python",
   "name": "python3"
  },
  "language_info": {
   "codemirror_mode": {
    "name": "ipython",
    "version": 3
   },
   "file_extension": ".py",
   "mimetype": "text/x-python",
   "name": "python",
   "nbconvert_exporter": "python",
   "pygments_lexer": "ipython3",
   "version": "3.8.5"
  }
 },
 "nbformat": 4,
 "nbformat_minor": 4
}
