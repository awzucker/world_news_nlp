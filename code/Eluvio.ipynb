{
 "cells": [
  {
   "cell_type": "code",
   "execution_count": 1,
   "metadata": {},
   "outputs": [],
   "source": [
    "import pandas as pd\n",
    "import numpy as np"
   ]
  },
  {
   "cell_type": "code",
   "execution_count": 2,
   "metadata": {},
   "outputs": [],
   "source": [
    "eluvio = pd.read_csv('../Practice/Eluvio_DS_Challenge.csv')"
   ]
  },
  {
   "cell_type": "code",
   "execution_count": 3,
   "metadata": {},
   "outputs": [
    {
     "data": {
      "text/html": [
       "<div>\n",
       "<style scoped>\n",
       "    .dataframe tbody tr th:only-of-type {\n",
       "        vertical-align: middle;\n",
       "    }\n",
       "\n",
       "    .dataframe tbody tr th {\n",
       "        vertical-align: top;\n",
       "    }\n",
       "\n",
       "    .dataframe thead th {\n",
       "        text-align: right;\n",
       "    }\n",
       "</style>\n",
       "<table border=\"1\" class=\"dataframe\">\n",
       "  <thead>\n",
       "    <tr style=\"text-align: right;\">\n",
       "      <th></th>\n",
       "      <th>time_created</th>\n",
       "      <th>date_created</th>\n",
       "      <th>up_votes</th>\n",
       "      <th>down_votes</th>\n",
       "      <th>title</th>\n",
       "      <th>over_18</th>\n",
       "      <th>author</th>\n",
       "      <th>category</th>\n",
       "    </tr>\n",
       "  </thead>\n",
       "  <tbody>\n",
       "    <tr>\n",
       "      <th>0</th>\n",
       "      <td>1201232046</td>\n",
       "      <td>2008-01-25</td>\n",
       "      <td>3</td>\n",
       "      <td>0</td>\n",
       "      <td>Scores killed in Pakistan clashes</td>\n",
       "      <td>False</td>\n",
       "      <td>polar</td>\n",
       "      <td>worldnews</td>\n",
       "    </tr>\n",
       "    <tr>\n",
       "      <th>1</th>\n",
       "      <td>1201232075</td>\n",
       "      <td>2008-01-25</td>\n",
       "      <td>2</td>\n",
       "      <td>0</td>\n",
       "      <td>Japan resumes refuelling mission</td>\n",
       "      <td>False</td>\n",
       "      <td>polar</td>\n",
       "      <td>worldnews</td>\n",
       "    </tr>\n",
       "    <tr>\n",
       "      <th>2</th>\n",
       "      <td>1201232523</td>\n",
       "      <td>2008-01-25</td>\n",
       "      <td>3</td>\n",
       "      <td>0</td>\n",
       "      <td>US presses Egypt on Gaza border</td>\n",
       "      <td>False</td>\n",
       "      <td>polar</td>\n",
       "      <td>worldnews</td>\n",
       "    </tr>\n",
       "    <tr>\n",
       "      <th>3</th>\n",
       "      <td>1201233290</td>\n",
       "      <td>2008-01-25</td>\n",
       "      <td>1</td>\n",
       "      <td>0</td>\n",
       "      <td>Jump-start economy: Give health care to all</td>\n",
       "      <td>False</td>\n",
       "      <td>fadi420</td>\n",
       "      <td>worldnews</td>\n",
       "    </tr>\n",
       "    <tr>\n",
       "      <th>4</th>\n",
       "      <td>1201274720</td>\n",
       "      <td>2008-01-25</td>\n",
       "      <td>4</td>\n",
       "      <td>0</td>\n",
       "      <td>Council of Europe bashes EU&amp;UN terror blacklist</td>\n",
       "      <td>False</td>\n",
       "      <td>mhermans</td>\n",
       "      <td>worldnews</td>\n",
       "    </tr>\n",
       "  </tbody>\n",
       "</table>\n",
       "</div>"
      ],
      "text/plain": [
       "   time_created date_created  up_votes  down_votes  \\\n",
       "0    1201232046   2008-01-25         3           0   \n",
       "1    1201232075   2008-01-25         2           0   \n",
       "2    1201232523   2008-01-25         3           0   \n",
       "3    1201233290   2008-01-25         1           0   \n",
       "4    1201274720   2008-01-25         4           0   \n",
       "\n",
       "                                             title  over_18    author  \\\n",
       "0                Scores killed in Pakistan clashes    False     polar   \n",
       "1                 Japan resumes refuelling mission    False     polar   \n",
       "2                  US presses Egypt on Gaza border    False     polar   \n",
       "3     Jump-start economy: Give health care to all     False   fadi420   \n",
       "4  Council of Europe bashes EU&UN terror blacklist    False  mhermans   \n",
       "\n",
       "    category  \n",
       "0  worldnews  \n",
       "1  worldnews  \n",
       "2  worldnews  \n",
       "3  worldnews  \n",
       "4  worldnews  "
      ]
     },
     "execution_count": 3,
     "metadata": {},
     "output_type": "execute_result"
    }
   ],
   "source": [
    "eluvio.head()"
   ]
  },
  {
   "cell_type": "code",
   "execution_count": 4,
   "metadata": {},
   "outputs": [
    {
     "data": {
      "text/plain": [
       "time_created    0\n",
       "date_created    0\n",
       "up_votes        0\n",
       "down_votes      0\n",
       "title           0\n",
       "over_18         0\n",
       "author          0\n",
       "category        0\n",
       "dtype: int64"
      ]
     },
     "execution_count": 4,
     "metadata": {},
     "output_type": "execute_result"
    }
   ],
   "source": [
    "eluvio.isnull().sum()"
   ]
  },
  {
   "cell_type": "code",
   "execution_count": 5,
   "metadata": {},
   "outputs": [
    {
     "data": {
      "text/plain": [
       "(509236, 8)"
      ]
     },
     "execution_count": 5,
     "metadata": {},
     "output_type": "execute_result"
    }
   ],
   "source": [
    "eluvio.shape"
   ]
  },
  {
   "cell_type": "code",
   "execution_count": 6,
   "metadata": {},
   "outputs": [
    {
     "data": {
      "text/plain": [
       "time_created     int64\n",
       "date_created    object\n",
       "up_votes         int64\n",
       "down_votes       int64\n",
       "title           object\n",
       "over_18           bool\n",
       "author          object\n",
       "category        object\n",
       "dtype: object"
      ]
     },
     "execution_count": 6,
     "metadata": {},
     "output_type": "execute_result"
    }
   ],
   "source": [
    "eluvio.dtypes"
   ]
  },
  {
   "cell_type": "code",
   "execution_count": 7,
   "metadata": {},
   "outputs": [
    {
     "data": {
      "text/plain": [
       "0       93555\n",
       "1       46619\n",
       "2       44195\n",
       "3       36112\n",
       "4       29917\n",
       "        ...  \n",
       "6196        1\n",
       "6881        1\n",
       "6509        1\n",
       "4850        1\n",
       "3806        1\n",
       "Name: up_votes, Length: 5782, dtype: int64"
      ]
     },
     "execution_count": 7,
     "metadata": {},
     "output_type": "execute_result"
    }
   ],
   "source": [
    "eluvio['up_votes'].value_counts()"
   ]
  },
  {
   "cell_type": "code",
   "execution_count": 8,
   "metadata": {},
   "outputs": [
    {
     "data": {
      "text/plain": [
       "0    509236\n",
       "Name: down_votes, dtype: int64"
      ]
     },
     "execution_count": 8,
     "metadata": {},
     "output_type": "execute_result"
    }
   ],
   "source": [
    "eluvio['down_votes'].value_counts()"
   ]
  },
  {
   "cell_type": "code",
   "execution_count": 9,
   "metadata": {},
   "outputs": [
    {
     "data": {
      "text/plain": [
       "False    508916\n",
       "True        320\n",
       "Name: over_18, dtype: int64"
      ]
     },
     "execution_count": 9,
     "metadata": {},
     "output_type": "execute_result"
    }
   ],
   "source": [
    "eluvio['over_18'].value_counts()"
   ]
  },
  {
   "cell_type": "code",
   "execution_count": 10,
   "metadata": {},
   "outputs": [
    {
     "data": {
      "text/plain": [
       "davidreiss666     8897\n",
       "anutensil         5730\n",
       "DoremusJessup     5037\n",
       "maxwellhill       4023\n",
       "igeldard          4013\n",
       "                  ... \n",
       "reader-red           1\n",
       "metheviewer          1\n",
       "mellamostephen       1\n",
       "Heavenandhull        1\n",
       "wrameerez            1\n",
       "Name: author, Length: 85838, dtype: int64"
      ]
     },
     "execution_count": 10,
     "metadata": {},
     "output_type": "execute_result"
    }
   ],
   "source": [
    "eluvio['author'].value_counts()"
   ]
  },
  {
   "cell_type": "code",
   "execution_count": 11,
   "metadata": {},
   "outputs": [
    {
     "data": {
      "text/plain": [
       "worldnews    509236\n",
       "Name: category, dtype: int64"
      ]
     },
     "execution_count": 11,
     "metadata": {},
     "output_type": "execute_result"
    }
   ],
   "source": [
    "eluvio['category'].value_counts()"
   ]
  },
  {
   "cell_type": "code",
   "execution_count": 12,
   "metadata": {},
   "outputs": [
    {
     "data": {
      "text/html": [
       "<div>\n",
       "<style scoped>\n",
       "    .dataframe tbody tr th:only-of-type {\n",
       "        vertical-align: middle;\n",
       "    }\n",
       "\n",
       "    .dataframe tbody tr th {\n",
       "        vertical-align: top;\n",
       "    }\n",
       "\n",
       "    .dataframe thead th {\n",
       "        text-align: right;\n",
       "    }\n",
       "</style>\n",
       "<table border=\"1\" class=\"dataframe\">\n",
       "  <thead>\n",
       "    <tr style=\"text-align: right;\">\n",
       "      <th></th>\n",
       "      <th>time_created</th>\n",
       "      <th>date_created</th>\n",
       "      <th>up_votes</th>\n",
       "      <th>down_votes</th>\n",
       "      <th>title</th>\n",
       "      <th>over_18</th>\n",
       "      <th>author</th>\n",
       "      <th>category</th>\n",
       "    </tr>\n",
       "  </thead>\n",
       "  <tbody>\n",
       "    <tr>\n",
       "      <th>377200</th>\n",
       "      <td>1434818471</td>\n",
       "      <td>2015-06-20</td>\n",
       "      <td>21253</td>\n",
       "      <td>0</td>\n",
       "      <td>A biotech startup has managed to 3-D print fak...</td>\n",
       "      <td>False</td>\n",
       "      <td>KRISHNA53</td>\n",
       "      <td>worldnews</td>\n",
       "    </tr>\n",
       "    <tr>\n",
       "      <th>391415</th>\n",
       "      <td>1440421079</td>\n",
       "      <td>2015-08-24</td>\n",
       "      <td>13435</td>\n",
       "      <td>0</td>\n",
       "      <td>Twitter has forced 30 websites that archive po...</td>\n",
       "      <td>False</td>\n",
       "      <td>joeyoungblood</td>\n",
       "      <td>worldnews</td>\n",
       "    </tr>\n",
       "    <tr>\n",
       "      <th>450818</th>\n",
       "      <td>1459706506</td>\n",
       "      <td>2016-04-03</td>\n",
       "      <td>13244</td>\n",
       "      <td>0</td>\n",
       "      <td>2.6 terabyte leak of Panamanian shell company ...</td>\n",
       "      <td>False</td>\n",
       "      <td>mister_geaux</td>\n",
       "      <td>worldnews</td>\n",
       "    </tr>\n",
       "    <tr>\n",
       "      <th>391318</th>\n",
       "      <td>1440367768</td>\n",
       "      <td>2015-08-23</td>\n",
       "      <td>12333</td>\n",
       "      <td>0</td>\n",
       "      <td>The police officer who leaked the footage of t...</td>\n",
       "      <td>False</td>\n",
       "      <td>navysealassulter</td>\n",
       "      <td>worldnews</td>\n",
       "    </tr>\n",
       "    <tr>\n",
       "      <th>390252</th>\n",
       "      <td>1439939168</td>\n",
       "      <td>2015-08-18</td>\n",
       "      <td>11288</td>\n",
       "      <td>0</td>\n",
       "      <td>Paris shooting survivor suing French media for...</td>\n",
       "      <td>False</td>\n",
       "      <td>seapiglet</td>\n",
       "      <td>worldnews</td>\n",
       "    </tr>\n",
       "    <tr>\n",
       "      <th>...</th>\n",
       "      <td>...</td>\n",
       "      <td>...</td>\n",
       "      <td>...</td>\n",
       "      <td>...</td>\n",
       "      <td>...</td>\n",
       "      <td>...</td>\n",
       "      <td>...</td>\n",
       "      <td>...</td>\n",
       "    </tr>\n",
       "    <tr>\n",
       "      <th>220099</th>\n",
       "      <td>1381644882</td>\n",
       "      <td>2013-10-13</td>\n",
       "      <td>0</td>\n",
       "      <td>0</td>\n",
       "      <td>Chinese Premier Li Keqiang has been granted th...</td>\n",
       "      <td>False</td>\n",
       "      <td>davidreiss666</td>\n",
       "      <td>worldnews</td>\n",
       "    </tr>\n",
       "    <tr>\n",
       "      <th>431262</th>\n",
       "      <td>1453107414</td>\n",
       "      <td>2016-01-18</td>\n",
       "      <td>0</td>\n",
       "      <td>0</td>\n",
       "      <td>Taliban denies role in latest Afghanistan bombing</td>\n",
       "      <td>False</td>\n",
       "      <td>raziinuaq</td>\n",
       "      <td>worldnews</td>\n",
       "    </tr>\n",
       "    <tr>\n",
       "      <th>220101</th>\n",
       "      <td>1381645228</td>\n",
       "      <td>2013-10-13</td>\n",
       "      <td>0</td>\n",
       "      <td>0</td>\n",
       "      <td>Possible lead in Madeleine McCann case</td>\n",
       "      <td>False</td>\n",
       "      <td>CristabelYYC</td>\n",
       "      <td>worldnews</td>\n",
       "    </tr>\n",
       "    <tr>\n",
       "      <th>431259</th>\n",
       "      <td>1453107145</td>\n",
       "      <td>2016-01-18</td>\n",
       "      <td>0</td>\n",
       "      <td>0</td>\n",
       "      <td>Suicide Attack Kills at Least 13 in Afghanistan</td>\n",
       "      <td>False</td>\n",
       "      <td>middleeastnewsman</td>\n",
       "      <td>worldnews</td>\n",
       "    </tr>\n",
       "    <tr>\n",
       "      <th>254618</th>\n",
       "      <td>1392908762</td>\n",
       "      <td>2014-02-20</td>\n",
       "      <td>0</td>\n",
       "      <td>0</td>\n",
       "      <td>Ukraine protesters take 67 policemen hostage -...</td>\n",
       "      <td>False</td>\n",
       "      <td>mystikalhereigo</td>\n",
       "      <td>worldnews</td>\n",
       "    </tr>\n",
       "  </tbody>\n",
       "</table>\n",
       "<p>509236 rows × 8 columns</p>\n",
       "</div>"
      ],
      "text/plain": [
       "        time_created date_created  up_votes  down_votes  \\\n",
       "377200    1434818471   2015-06-20     21253           0   \n",
       "391415    1440421079   2015-08-24     13435           0   \n",
       "450818    1459706506   2016-04-03     13244           0   \n",
       "391318    1440367768   2015-08-23     12333           0   \n",
       "390252    1439939168   2015-08-18     11288           0   \n",
       "...              ...          ...       ...         ...   \n",
       "220099    1381644882   2013-10-13         0           0   \n",
       "431262    1453107414   2016-01-18         0           0   \n",
       "220101    1381645228   2013-10-13         0           0   \n",
       "431259    1453107145   2016-01-18         0           0   \n",
       "254618    1392908762   2014-02-20         0           0   \n",
       "\n",
       "                                                    title  over_18  \\\n",
       "377200  A biotech startup has managed to 3-D print fak...    False   \n",
       "391415  Twitter has forced 30 websites that archive po...    False   \n",
       "450818  2.6 terabyte leak of Panamanian shell company ...    False   \n",
       "391318  The police officer who leaked the footage of t...    False   \n",
       "390252  Paris shooting survivor suing French media for...    False   \n",
       "...                                                   ...      ...   \n",
       "220099  Chinese Premier Li Keqiang has been granted th...    False   \n",
       "431262  Taliban denies role in latest Afghanistan bombing    False   \n",
       "220101             Possible lead in Madeleine McCann case    False   \n",
       "431259    Suicide Attack Kills at Least 13 in Afghanistan    False   \n",
       "254618  Ukraine protesters take 67 policemen hostage -...    False   \n",
       "\n",
       "                   author   category  \n",
       "377200          KRISHNA53  worldnews  \n",
       "391415      joeyoungblood  worldnews  \n",
       "450818       mister_geaux  worldnews  \n",
       "391318   navysealassulter  worldnews  \n",
       "390252          seapiglet  worldnews  \n",
       "...                   ...        ...  \n",
       "220099      davidreiss666  worldnews  \n",
       "431262          raziinuaq  worldnews  \n",
       "220101       CristabelYYC  worldnews  \n",
       "431259  middleeastnewsman  worldnews  \n",
       "254618    mystikalhereigo  worldnews  \n",
       "\n",
       "[509236 rows x 8 columns]"
      ]
     },
     "execution_count": 12,
     "metadata": {},
     "output_type": "execute_result"
    }
   ],
   "source": [
    "eluvio.sort_values('up_votes', ascending=False)"
   ]
  },
  {
   "cell_type": "code",
   "execution_count": 13,
   "metadata": {},
   "outputs": [
    {
     "data": {
      "text/html": [
       "<div>\n",
       "<style scoped>\n",
       "    .dataframe tbody tr th:only-of-type {\n",
       "        vertical-align: middle;\n",
       "    }\n",
       "\n",
       "    .dataframe tbody tr th {\n",
       "        vertical-align: top;\n",
       "    }\n",
       "\n",
       "    .dataframe thead th {\n",
       "        text-align: right;\n",
       "    }\n",
       "</style>\n",
       "<table border=\"1\" class=\"dataframe\">\n",
       "  <thead>\n",
       "    <tr style=\"text-align: right;\">\n",
       "      <th></th>\n",
       "      <th>time_created</th>\n",
       "      <th>date_created</th>\n",
       "      <th>up_votes</th>\n",
       "      <th>down_votes</th>\n",
       "      <th>title</th>\n",
       "      <th>over_18</th>\n",
       "      <th>author</th>\n",
       "      <th>category</th>\n",
       "    </tr>\n",
       "  </thead>\n",
       "  <tbody>\n",
       "    <tr>\n",
       "      <th>63784</th>\n",
       "      <td>1283380456</td>\n",
       "      <td>2010-09-01</td>\n",
       "      <td>22</td>\n",
       "      <td>0</td>\n",
       "      <td>Ghanaian prostitutes in Nigeria on strike (som...</td>\n",
       "      <td>True</td>\n",
       "      <td>Barney21</td>\n",
       "      <td>worldnews</td>\n",
       "    </tr>\n",
       "    <tr>\n",
       "      <th>508376</th>\n",
       "      <td>1479492875</td>\n",
       "      <td>2016-11-18</td>\n",
       "      <td>6</td>\n",
       "      <td>0</td>\n",
       "      <td>Jungle Justice : Public lynching of a street ...</td>\n",
       "      <td>True</td>\n",
       "      <td>avivi_</td>\n",
       "      <td>worldnews</td>\n",
       "    </tr>\n",
       "    <tr>\n",
       "      <th>295477</th>\n",
       "      <td>1407377021</td>\n",
       "      <td>2014-08-07</td>\n",
       "      <td>30</td>\n",
       "      <td>0</td>\n",
       "      <td>[NSFW] Ebola victims left to rot in Liberia st...</td>\n",
       "      <td>True</td>\n",
       "      <td>marx2k</td>\n",
       "      <td>worldnews</td>\n",
       "    </tr>\n",
       "    <tr>\n",
       "      <th>438315</th>\n",
       "      <td>1455308528</td>\n",
       "      <td>2016-02-12</td>\n",
       "      <td>6</td>\n",
       "      <td>0</td>\n",
       "      <td>French court has ruled over a battle between F...</td>\n",
       "      <td>True</td>\n",
       "      <td>foundafreeusername</td>\n",
       "      <td>worldnews</td>\n",
       "    </tr>\n",
       "    <tr>\n",
       "      <th>78831</th>\n",
       "      <td>1299276274</td>\n",
       "      <td>2011-03-04</td>\n",
       "      <td>202</td>\n",
       "      <td>0</td>\n",
       "      <td>WARNING GRAPHIC NSFW:  UNARMED women just want...</td>\n",
       "      <td>True</td>\n",
       "      <td>Marvelous_Margarine</td>\n",
       "      <td>worldnews</td>\n",
       "    </tr>\n",
       "    <tr>\n",
       "      <th>...</th>\n",
       "      <td>...</td>\n",
       "      <td>...</td>\n",
       "      <td>...</td>\n",
       "      <td>...</td>\n",
       "      <td>...</td>\n",
       "      <td>...</td>\n",
       "      <td>...</td>\n",
       "      <td>...</td>\n",
       "    </tr>\n",
       "    <tr>\n",
       "      <th>169792</th>\n",
       "      <td>1364734972</td>\n",
       "      <td>2013-03-31</td>\n",
       "      <td>14</td>\n",
       "      <td>0</td>\n",
       "      <td>Journey to the Slaughterhouse - Investigation ...</td>\n",
       "      <td>False</td>\n",
       "      <td>anutensil</td>\n",
       "      <td>worldnews</td>\n",
       "    </tr>\n",
       "    <tr>\n",
       "      <th>169791</th>\n",
       "      <td>1364734390</td>\n",
       "      <td>2013-03-31</td>\n",
       "      <td>17</td>\n",
       "      <td>0</td>\n",
       "      <td>Bride being smuggled into Palestine through tu...</td>\n",
       "      <td>False</td>\n",
       "      <td>sirvoice</td>\n",
       "      <td>worldnews</td>\n",
       "    </tr>\n",
       "    <tr>\n",
       "      <th>169790</th>\n",
       "      <td>1364734285</td>\n",
       "      <td>2013-03-31</td>\n",
       "      <td>26</td>\n",
       "      <td>0</td>\n",
       "      <td>China: A new colonial power?  China takes from...</td>\n",
       "      <td>False</td>\n",
       "      <td>moses_herzog</td>\n",
       "      <td>worldnews</td>\n",
       "    </tr>\n",
       "    <tr>\n",
       "      <th>169789</th>\n",
       "      <td>1364734052</td>\n",
       "      <td>2013-03-31</td>\n",
       "      <td>130</td>\n",
       "      <td>0</td>\n",
       "      <td>Kuwait online activist jailed for 2 years for ...</td>\n",
       "      <td>False</td>\n",
       "      <td>hoosakiwi</td>\n",
       "      <td>worldnews</td>\n",
       "    </tr>\n",
       "    <tr>\n",
       "      <th>509235</th>\n",
       "      <td>1479817346</td>\n",
       "      <td>2016-11-22</td>\n",
       "      <td>1</td>\n",
       "      <td>0</td>\n",
       "      <td>Palestinian wielding knife shot dead in West B...</td>\n",
       "      <td>False</td>\n",
       "      <td>superislam</td>\n",
       "      <td>worldnews</td>\n",
       "    </tr>\n",
       "  </tbody>\n",
       "</table>\n",
       "<p>509236 rows × 8 columns</p>\n",
       "</div>"
      ],
      "text/plain": [
       "        time_created date_created  up_votes  down_votes  \\\n",
       "63784     1283380456   2010-09-01        22           0   \n",
       "508376    1479492875   2016-11-18         6           0   \n",
       "295477    1407377021   2014-08-07        30           0   \n",
       "438315    1455308528   2016-02-12         6           0   \n",
       "78831     1299276274   2011-03-04       202           0   \n",
       "...              ...          ...       ...         ...   \n",
       "169792    1364734972   2013-03-31        14           0   \n",
       "169791    1364734390   2013-03-31        17           0   \n",
       "169790    1364734285   2013-03-31        26           0   \n",
       "169789    1364734052   2013-03-31       130           0   \n",
       "509235    1479817346   2016-11-22         1           0   \n",
       "\n",
       "                                                    title  over_18  \\\n",
       "63784   Ghanaian prostitutes in Nigeria on strike (som...     True   \n",
       "508376   Jungle Justice : Public lynching of a street ...     True   \n",
       "295477  [NSFW] Ebola victims left to rot in Liberia st...     True   \n",
       "438315  French court has ruled over a battle between F...     True   \n",
       "78831   WARNING GRAPHIC NSFW:  UNARMED women just want...     True   \n",
       "...                                                   ...      ...   \n",
       "169792  Journey to the Slaughterhouse - Investigation ...    False   \n",
       "169791  Bride being smuggled into Palestine through tu...    False   \n",
       "169790  China: A new colonial power?  China takes from...    False   \n",
       "169789  Kuwait online activist jailed for 2 years for ...    False   \n",
       "509235  Palestinian wielding knife shot dead in West B...    False   \n",
       "\n",
       "                     author   category  \n",
       "63784              Barney21  worldnews  \n",
       "508376               avivi_  worldnews  \n",
       "295477               marx2k  worldnews  \n",
       "438315   foundafreeusername  worldnews  \n",
       "78831   Marvelous_Margarine  worldnews  \n",
       "...                     ...        ...  \n",
       "169792            anutensil  worldnews  \n",
       "169791             sirvoice  worldnews  \n",
       "169790         moses_herzog  worldnews  \n",
       "169789            hoosakiwi  worldnews  \n",
       "509235           superislam  worldnews  \n",
       "\n",
       "[509236 rows x 8 columns]"
      ]
     },
     "execution_count": 13,
     "metadata": {},
     "output_type": "execute_result"
    }
   ],
   "source": [
    "eluvio.sort_values('over_18', ascending=False)"
   ]
  },
  {
   "cell_type": "code",
   "execution_count": 16,
   "metadata": {},
   "outputs": [
    {
     "data": {
      "text/plain": [
       "0         0\n",
       "1         0\n",
       "2         0\n",
       "3         0\n",
       "4         0\n",
       "         ..\n",
       "509231    0\n",
       "509232    0\n",
       "509233    0\n",
       "509234    0\n",
       "509235    0\n",
       "Name: over_18, Length: 509236, dtype: int64"
      ]
     },
     "execution_count": 16,
     "metadata": {},
     "output_type": "execute_result"
    }
   ],
   "source": [
    "# Converting over_18 column from boolean to integers\n",
    "\n",
    "eluvio.over_18.astype(int)"
   ]
  },
  {
   "cell_type": "code",
   "execution_count": null,
   "metadata": {},
   "outputs": [],
   "source": [
    "# Dropping down_votes column since there are none\n",
    "eluvio.drop(columns='down_votes', inplace=True)"
   ]
  }
 ],
 "metadata": {
  "kernelspec": {
   "display_name": "Python 3",
   "language": "python",
   "name": "python3"
  },
  "language_info": {
   "codemirror_mode": {
    "name": "ipython",
    "version": 3
   },
   "file_extension": ".py",
   "mimetype": "text/x-python",
   "name": "python",
   "nbconvert_exporter": "python",
   "pygments_lexer": "ipython3",
   "version": "3.8.5"
  }
 },
 "nbformat": 4,
 "nbformat_minor": 4
}
